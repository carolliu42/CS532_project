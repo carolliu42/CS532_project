{
 "cells": [
  {
   "cell_type": "code",
   "execution_count": 1,
   "metadata": {
    "ExecuteTime": {
     "end_time": "2020-12-12T06:24:57.110977Z",
     "start_time": "2020-12-12T06:24:56.481390Z"
    }
   },
   "outputs": [],
   "source": [
    "import numpy as np\n",
    "import pandas as pd\n",
    "from matplotlib import pyplot as plt"
   ]
  },
  {
   "cell_type": "code",
   "execution_count": 2,
   "metadata": {
    "ExecuteTime": {
     "end_time": "2020-12-12T06:24:57.152156Z",
     "start_time": "2020-12-12T06:24:57.113742Z"
    }
   },
   "outputs": [
    {
     "name": "stdout",
     "output_type": "stream",
     "text": [
      "<class 'pandas.core.frame.DataFrame'>\n",
      "RangeIndex: 12330 entries, 0 to 12329\n",
      "Data columns (total 18 columns):\n",
      " #   Column                   Non-Null Count  Dtype  \n",
      "---  ------                   --------------  -----  \n",
      " 0   Administrative           12330 non-null  int64  \n",
      " 1   Administrative_Duration  12330 non-null  float64\n",
      " 2   Informational            12330 non-null  int64  \n",
      " 3   Informational_Duration   12330 non-null  float64\n",
      " 4   ProductRelated           12330 non-null  int64  \n",
      " 5   ProductRelated_Duration  12330 non-null  float64\n",
      " 6   BounceRates              12330 non-null  float64\n",
      " 7   ExitRates                12330 non-null  float64\n",
      " 8   PageValues               12330 non-null  float64\n",
      " 9   SpecialDay               12330 non-null  float64\n",
      " 10  Month                    12330 non-null  object \n",
      " 11  OperatingSystems         12330 non-null  int64  \n",
      " 12  Browser                  12330 non-null  int64  \n",
      " 13  Region                   12330 non-null  int64  \n",
      " 14  TrafficType              12330 non-null  int64  \n",
      " 15  VisitorType              12330 non-null  object \n",
      " 16  Weekend                  12330 non-null  bool   \n",
      " 17  Revenue                  12330 non-null  bool   \n",
      "dtypes: bool(2), float64(7), int64(7), object(2)\n",
      "memory usage: 1.5+ MB\n",
      "None\n"
     ]
    }
   ],
   "source": [
    "# import the raw dataset\n",
    "raw_data = pd.read_csv('online_shoppers_intention.csv')\n",
    "print(raw_data.info())"
   ]
  },
  {
   "cell_type": "code",
   "execution_count": 3,
   "metadata": {
    "ExecuteTime": {
     "end_time": "2020-12-12T06:24:57.172008Z",
     "start_time": "2020-12-12T06:24:57.155163Z"
    }
   },
   "outputs": [
    {
     "data": {
      "text/html": [
       "<div>\n",
       "<style scoped>\n",
       "    .dataframe tbody tr th:only-of-type {\n",
       "        vertical-align: middle;\n",
       "    }\n",
       "\n",
       "    .dataframe tbody tr th {\n",
       "        vertical-align: top;\n",
       "    }\n",
       "\n",
       "    .dataframe thead th {\n",
       "        text-align: right;\n",
       "    }\n",
       "</style>\n",
       "<table border=\"1\" class=\"dataframe\">\n",
       "  <thead>\n",
       "    <tr style=\"text-align: right;\">\n",
       "      <th></th>\n",
       "      <th>Administrative</th>\n",
       "      <th>Administrative_Duration</th>\n",
       "      <th>Informational</th>\n",
       "      <th>Informational_Duration</th>\n",
       "      <th>ProductRelated</th>\n",
       "      <th>ProductRelated_Duration</th>\n",
       "      <th>BounceRates</th>\n",
       "      <th>ExitRates</th>\n",
       "      <th>PageValues</th>\n",
       "      <th>SpecialDay</th>\n",
       "      <th>Month</th>\n",
       "      <th>OperatingSystems</th>\n",
       "      <th>Browser</th>\n",
       "      <th>Region</th>\n",
       "      <th>TrafficType</th>\n",
       "      <th>VisitorType</th>\n",
       "      <th>Weekend</th>\n",
       "      <th>Revenue</th>\n",
       "    </tr>\n",
       "  </thead>\n",
       "  <tbody>\n",
       "    <tr>\n",
       "      <th>0</th>\n",
       "      <td>0</td>\n",
       "      <td>0.0</td>\n",
       "      <td>0</td>\n",
       "      <td>0.0</td>\n",
       "      <td>1</td>\n",
       "      <td>0.0</td>\n",
       "      <td>0.2</td>\n",
       "      <td>0.2</td>\n",
       "      <td>0.0</td>\n",
       "      <td>0.0</td>\n",
       "      <td>Feb</td>\n",
       "      <td>1</td>\n",
       "      <td>1</td>\n",
       "      <td>1</td>\n",
       "      <td>1</td>\n",
       "      <td>Returning_Visitor</td>\n",
       "      <td>False</td>\n",
       "      <td>False</td>\n",
       "    </tr>\n",
       "    <tr>\n",
       "      <th>1</th>\n",
       "      <td>0</td>\n",
       "      <td>0.0</td>\n",
       "      <td>0</td>\n",
       "      <td>0.0</td>\n",
       "      <td>2</td>\n",
       "      <td>64.0</td>\n",
       "      <td>0.0</td>\n",
       "      <td>0.1</td>\n",
       "      <td>0.0</td>\n",
       "      <td>0.0</td>\n",
       "      <td>Feb</td>\n",
       "      <td>2</td>\n",
       "      <td>2</td>\n",
       "      <td>1</td>\n",
       "      <td>2</td>\n",
       "      <td>Returning_Visitor</td>\n",
       "      <td>False</td>\n",
       "      <td>False</td>\n",
       "    </tr>\n",
       "    <tr>\n",
       "      <th>2</th>\n",
       "      <td>0</td>\n",
       "      <td>0.0</td>\n",
       "      <td>0</td>\n",
       "      <td>0.0</td>\n",
       "      <td>1</td>\n",
       "      <td>0.0</td>\n",
       "      <td>0.2</td>\n",
       "      <td>0.2</td>\n",
       "      <td>0.0</td>\n",
       "      <td>0.0</td>\n",
       "      <td>Feb</td>\n",
       "      <td>4</td>\n",
       "      <td>1</td>\n",
       "      <td>9</td>\n",
       "      <td>3</td>\n",
       "      <td>Returning_Visitor</td>\n",
       "      <td>False</td>\n",
       "      <td>False</td>\n",
       "    </tr>\n",
       "  </tbody>\n",
       "</table>\n",
       "</div>"
      ],
      "text/plain": [
       "   Administrative  Administrative_Duration  Informational  \\\n",
       "0               0                      0.0              0   \n",
       "1               0                      0.0              0   \n",
       "2               0                      0.0              0   \n",
       "\n",
       "   Informational_Duration  ProductRelated  ProductRelated_Duration  \\\n",
       "0                     0.0               1                      0.0   \n",
       "1                     0.0               2                     64.0   \n",
       "2                     0.0               1                      0.0   \n",
       "\n",
       "   BounceRates  ExitRates  PageValues  SpecialDay Month  OperatingSystems  \\\n",
       "0          0.2        0.2         0.0         0.0   Feb                 1   \n",
       "1          0.0        0.1         0.0         0.0   Feb                 2   \n",
       "2          0.2        0.2         0.0         0.0   Feb                 4   \n",
       "\n",
       "   Browser  Region  TrafficType        VisitorType  Weekend  Revenue  \n",
       "0        1       1            1  Returning_Visitor    False    False  \n",
       "1        2       1            2  Returning_Visitor    False    False  \n",
       "2        1       9            3  Returning_Visitor    False    False  "
      ]
     },
     "execution_count": 3,
     "metadata": {},
     "output_type": "execute_result"
    }
   ],
   "source": [
    "raw_data.head(3)"
   ]
  },
  {
   "cell_type": "markdown",
   "metadata": {
    "ExecuteTime": {
     "end_time": "2020-11-18T00:11:00.756117Z",
     "start_time": "2020-11-18T00:11:00.754341Z"
    }
   },
   "source": [
    "## Pre-processing the data"
   ]
  },
  {
   "cell_type": "code",
   "execution_count": 4,
   "metadata": {
    "ExecuteTime": {
     "end_time": "2020-12-12T06:24:57.194390Z",
     "start_time": "2020-12-12T06:24:57.174219Z"
    }
   },
   "outputs": [
    {
     "name": "stdout",
     "output_type": "stream",
     "text": [
      "<class 'pandas.core.frame.DataFrame'>\n",
      "RangeIndex: 12330 entries, 0 to 12329\n",
      "Data columns (total 18 columns):\n",
      " #   Column                   Non-Null Count  Dtype  \n",
      "---  ------                   --------------  -----  \n",
      " 0   Administrative           12330 non-null  int64  \n",
      " 1   Administrative_Duration  12330 non-null  float64\n",
      " 2   Informational            12330 non-null  int64  \n",
      " 3   Informational_Duration   12330 non-null  float64\n",
      " 4   ProductRelated           12330 non-null  int64  \n",
      " 5   ProductRelated_Duration  12330 non-null  float64\n",
      " 6   BounceRates              12330 non-null  float64\n",
      " 7   ExitRates                12330 non-null  float64\n",
      " 8   PageValues               12330 non-null  float64\n",
      " 9   SpecialDay               12330 non-null  float64\n",
      " 10  Month                    12330 non-null  object \n",
      " 11  OperatingSystems         12330 non-null  object \n",
      " 12  Browser                  12330 non-null  object \n",
      " 13  Region                   12330 non-null  object \n",
      " 14  TrafficType              12330 non-null  object \n",
      " 15  VisitorType              12330 non-null  object \n",
      " 16  Weekend                  12330 non-null  int64  \n",
      " 17  Revenue                  12330 non-null  int64  \n",
      "dtypes: float64(7), int64(5), object(6)\n",
      "memory usage: 1.7+ MB\n",
      "None\n"
     ]
    }
   ],
   "source": [
    "# build a new dataframe and change some data type\n",
    "shopperdata = raw_data\n",
    "shopperdata[['OperatingSystems','Browser','Region','TrafficType']] = shopperdata[['OperatingSystems','Browser','Region','TrafficType']].astype('object')\n",
    "shopperdata['Revenue'] = shopperdata['Revenue'].replace([True,False],[1,-1])\n",
    "shopperdata['Weekend'] = shopperdata['Weekend'].astype(\"int\")\n",
    "print(shopperdata.info())"
   ]
  },
  {
   "cell_type": "code",
   "execution_count": 5,
   "metadata": {
    "ExecuteTime": {
     "end_time": "2020-12-12T06:24:57.238461Z",
     "start_time": "2020-12-12T06:24:57.196678Z"
    }
   },
   "outputs": [
    {
     "name": "stdout",
     "output_type": "stream",
     "text": [
      "(12330, 74) (12330, 1)\n",
      "Administrative                   float64\n",
      "Administrative_Duration          float64\n",
      "Informational                    float64\n",
      "Informational_Duration           float64\n",
      "ProductRelated                   float64\n",
      "                                  ...   \n",
      "TrafficType_19                     uint8\n",
      "TrafficType_20                     uint8\n",
      "VisitorType_New_Visitor            uint8\n",
      "VisitorType_Other                  uint8\n",
      "VisitorType_Returning_Visitor      uint8\n",
      "Length: 74, dtype: object\n",
      "Revenue    int64\n",
      "dtype: object\n"
     ]
    }
   ],
   "source": [
    "# create new dummy variables based on categoricals\n",
    "X = pd.get_dummies(shopperdata, columns=shopperdata.columns[shopperdata.dtypes == \"object\"])\n",
    "X.drop(['Revenue'],axis =1, inplace = True )\n",
    "\n",
    "# normalize all the numerical columns\n",
    "X_num = X.iloc[:,0:10]\n",
    "X_num_norm = (X_num-X_num.min())/(X_num.max()-X_num.min())\n",
    "X.iloc[:,0:10] = X_num_norm  \n",
    "\n",
    "# Construct the response variable for classification\n",
    "y = shopperdata.loc[:,['Revenue']]\n",
    "\n",
    "\n",
    "print(X.shape, y.shape)\n",
    "print(X.dtypes)\n",
    "print(y.dtypes)"
   ]
  },
  {
   "cell_type": "code",
   "execution_count": 6,
   "metadata": {
    "ExecuteTime": {
     "end_time": "2020-12-12T06:24:57.951778Z",
     "start_time": "2020-12-12T06:24:57.240216Z"
    }
   },
   "outputs": [],
   "source": [
    "from sklearn.model_selection import train_test_split\n",
    "# split whole datasize into training and testing (25%)\n",
    "Xtrain, Xtest, ytrain, ytest = train_test_split(X,y,test_size=0.25,random_state=1001,stratify = y)\n",
    "data_train = pd.concat([Xtrain,ytrain],axis=1)\n",
    "\n",
    "#convert y from datafame to array for future use\n",
    "ytrain = ytrain.values.ravel()\n",
    "ytest = ytest.values.ravel()"
   ]
  },
  {
   "cell_type": "markdown",
   "metadata": {},
   "source": [
    "## Feature Selection"
   ]
  },
  {
   "cell_type": "markdown",
   "metadata": {},
   "source": [
    "### Correlation"
   ]
  },
  {
   "cell_type": "code",
   "execution_count": 7,
   "metadata": {
    "ExecuteTime": {
     "end_time": "2020-12-12T06:24:59.001110Z",
     "start_time": "2020-12-12T06:24:57.953902Z"
    }
   },
   "outputs": [
    {
     "data": {
      "image/png": "[encoded data removed]",
      "text/plain": [
       "<Figure size 432x288 with 1 Axes>"
      ]
     },
     "metadata": {
      "needs_background": "light"
     },
     "output_type": "display_data"
    }
   ],
   "source": [
    "corr = data_train.corr()\n",
    "corr_y = corr.loc[\"Revenue\"].sort_values()\n",
    "corr_y.drop([\"Revenue\"],axis =0, inplace = True )\n",
    "plt.figure()\n",
    "plt.plot(corr_y)\n",
    "plt.hlines(y=(-0.1,0.03),xmin=0,xmax=75,color='r',lw=1,linestyle='dashed')\n",
    "plt.show()"
   ]
  },
  {
   "cell_type": "code",
   "execution_count": 8,
   "metadata": {
    "ExecuteTime": {
     "end_time": "2020-12-12T06:24:59.012291Z",
     "start_time": "2020-12-12T06:24:59.006046Z"
    }
   },
   "outputs": [
    {
     "data": {
      "text/plain": [
       "['ExitRates',\n",
       " 'BounceRates',\n",
       " 'VisitorType_Returning_Visitor',\n",
       " 'TrafficType_20',\n",
       " 'TrafficType_8',\n",
       " 'OperatingSystems_2',\n",
       " 'Informational_Duration',\n",
       " 'Informational',\n",
       " 'Administrative_Duration',\n",
       " 'VisitorType_New_Visitor',\n",
       " 'TrafficType_2',\n",
       " 'Administrative',\n",
       " 'ProductRelated_Duration',\n",
       " 'ProductRelated',\n",
       " 'Month_Nov',\n",
       " 'PageValues']"
      ]
     },
     "execution_count": 8,
     "metadata": {},
     "output_type": "execute_result"
    }
   ],
   "source": [
    "fea_list_corr = list(corr_y[(corr_y<=-0.1)|(corr_y>=0.03)].index)\n",
    "fea_list_corr"
   ]
  },
  {
   "cell_type": "code",
   "execution_count": 9,
   "metadata": {
    "ExecuteTime": {
     "end_time": "2020-12-12T06:24:59.024579Z",
     "start_time": "2020-12-12T06:24:59.015337Z"
    }
   },
   "outputs": [
    {
     "data": {
      "text/plain": [
       "(9247, 16)"
      ]
     },
     "execution_count": 9,
     "metadata": {},
     "output_type": "execute_result"
    }
   ],
   "source": [
    "Xtrain_corr = Xtrain.loc[:,fea_list_corr]\n",
    "Xtest_corr = Xtest.loc[:,fea_list_corr]\n",
    "Xtrain_corr.shape"
   ]
  },
  {
   "cell_type": "markdown",
   "metadata": {},
   "source": [
    "### PCA"
   ]
  },
  {
   "cell_type": "code",
   "execution_count": 10,
   "metadata": {
    "ExecuteTime": {
     "end_time": "2020-12-12T06:24:59.087491Z",
     "start_time": "2020-12-12T06:24:59.027251Z"
    }
   },
   "outputs": [],
   "source": [
    "from sklearn.decomposition import PCA\n",
    "from sklearn.model_selection import cross_val_score"
   ]
  },
  {
   "cell_type": "code",
   "execution_count": 11,
   "metadata": {
    "ExecuteTime": {
     "end_time": "2020-12-12T06:24:59.331987Z",
     "start_time": "2020-12-12T06:24:59.088900Z"
    }
   },
   "outputs": [
    {
     "data": {
      "image/png": "[encoded data removed]",
      "text/plain": [
       "<Figure size 720x432 with 1 Axes>"
      ]
     },
     "metadata": {
      "needs_background": "light"
     },
     "output_type": "display_data"
    }
   ],
   "source": [
    "pca_line = PCA().fit(Xtrain)\n",
    "plt.figure(figsize=[10,6])\n",
    "plt.plot(np.cumsum(pca_line.explained_variance_ratio_))\n",
    "plt.xlabel(\"number of components after idimension reduction\")\n",
    "plt.ylabel(\"cumulative explained variance ratio\")\n",
    "plt.show()"
   ]
  },
  {
   "cell_type": "code",
   "execution_count": 12,
   "metadata": {
    "ExecuteTime": {
     "end_time": "2020-12-12T06:24:59.422557Z",
     "start_time": "2020-12-12T06:24:59.334590Z"
    }
   },
   "outputs": [
    {
     "name": "stdout",
     "output_type": "stream",
     "text": [
      "num. of component: 25\n"
     ]
    }
   ],
   "source": [
    "dim = np.where(np.cumsum(pca_line.explained_variance_ratio_)>0.9)[0][0]\n",
    "print('num. of component:',dim)\n",
    "Xtrain_PCA = PCA(dim).fit_transform(Xtrain)\n",
    "Xtest_PCA = PCA(dim).fit_transform(Xtest)"
   ]
  },
  {
   "cell_type": "markdown",
   "metadata": {},
   "source": [
    "### LASSO"
   ]
  },
  {
   "cell_type": "code",
   "execution_count": 13,
   "metadata": {
    "ExecuteTime": {
     "end_time": "2020-12-12T06:25:00.309549Z",
     "start_time": "2020-12-12T06:24:59.425109Z"
    }
   },
   "outputs": [],
   "source": [
    "from sklearn.linear_model import Ridge, LinearRegression, Lasso\n",
    "from sklearn.linear_model import LassoCV\n",
    "\n",
    "#define the list of potential choice of regulator in LASSO\n",
    "lambdarange = np.logspace(-10,0,200,base=10)\n",
    "lasso = LassoCV(alphas=lambdarange,cv=10).fit(Xtrain,ytrain)\n",
    "#lasso_ = LassoCV(eps=0.00001,n_alphas=300,cv=10).fit(Xtrain,ytrain)"
   ]
  },
  {
   "cell_type": "code",
   "execution_count": 14,
   "metadata": {
    "ExecuteTime": {
     "end_time": "2020-12-12T06:25:00.316819Z",
     "start_time": "2020-12-12T06:25:00.311793Z"
    }
   },
   "outputs": [
    {
     "data": {
      "text/plain": [
       "0.0005415871378079476"
      ]
     },
     "execution_count": 14,
     "metadata": {},
     "output_type": "execute_result"
    }
   ],
   "source": [
    "lasso_par = lasso.alpha_\n",
    "lasso_par"
   ]
  },
  {
   "cell_type": "code",
   "execution_count": 15,
   "metadata": {
    "ExecuteTime": {
     "end_time": "2020-12-12T06:25:00.326557Z",
     "start_time": "2020-12-12T06:25:00.319077Z"
    }
   },
   "outputs": [
    {
     "data": {
      "text/plain": [
       "['Administrative',\n",
       " 'Informational',\n",
       " 'Informational_Duration',\n",
       " 'ProductRelated',\n",
       " 'BounceRates',\n",
       " 'ExitRates',\n",
       " 'PageValues',\n",
       " 'SpecialDay',\n",
       " 'Weekend',\n",
       " 'Month_Aug',\n",
       " 'Month_Dec',\n",
       " 'Month_Feb',\n",
       " 'Month_Jul',\n",
       " 'Month_June',\n",
       " 'Month_Mar',\n",
       " 'Month_May',\n",
       " 'Month_Nov',\n",
       " 'Month_Sep',\n",
       " 'OperatingSystems_2',\n",
       " 'OperatingSystems_3',\n",
       " 'OperatingSystems_4',\n",
       " 'Browser_1',\n",
       " 'Browser_2',\n",
       " 'Browser_6',\n",
       " 'Region_1',\n",
       " 'Region_2',\n",
       " 'Region_3',\n",
       " 'Region_4',\n",
       " 'Region_5',\n",
       " 'Region_6',\n",
       " 'Region_7',\n",
       " 'Region_9',\n",
       " 'TrafficType_1',\n",
       " 'TrafficType_2',\n",
       " 'TrafficType_3',\n",
       " 'TrafficType_6',\n",
       " 'TrafficType_8',\n",
       " 'TrafficType_10',\n",
       " 'TrafficType_13',\n",
       " 'TrafficType_20',\n",
       " 'VisitorType_New_Visitor']"
      ]
     },
     "execution_count": 15,
     "metadata": {},
     "output_type": "execute_result"
    }
   ],
   "source": [
    "lasso_coef = pd.Series(lasso.coef_, index=X.columns.tolist(),name=\"lasso_coef\")\n",
    "fea_list_lasso = list(lasso_coef[lasso_coef!= 0].index)\n",
    "fea_list_lasso"
   ]
  },
  {
   "cell_type": "code",
   "execution_count": 16,
   "metadata": {
    "ExecuteTime": {
     "end_time": "2020-12-12T06:25:00.338050Z",
     "start_time": "2020-12-12T06:25:00.328764Z"
    }
   },
   "outputs": [
    {
     "data": {
      "text/plain": [
       "(9247, 41)"
      ]
     },
     "execution_count": 16,
     "metadata": {},
     "output_type": "execute_result"
    }
   ],
   "source": [
    "Xtrain_lasso = Xtrain.loc[:,fea_list_lasso]\n",
    "Xtest_lasso = Xtest.loc[:,fea_list_lasso]\n",
    "Xtrain_lasso.shape"
   ]
  },
  {
   "cell_type": "markdown",
   "metadata": {},
   "source": [
    "## Learning Regression Classifiers"
   ]
  },
  {
   "cell_type": "markdown",
   "metadata": {},
   "source": [
    "### Simple linear Regression without feature selection"
   ]
  },
  {
   "cell_type": "code",
   "execution_count": 17,
   "metadata": {
    "ExecuteTime": {
     "end_time": "2020-12-12T06:25:00.369249Z",
     "start_time": "2020-12-12T06:25:00.340280Z"
    }
   },
   "outputs": [],
   "source": [
    "LR = LinearRegression().fit(Xtrain,ytrain)\n",
    "ytest_LR = np.sign(LR.predict(Xtest))\n",
    "err_rate_LR = (ytest_LR!=ytest).sum()/len(ytest)"
   ]
  },
  {
   "cell_type": "code",
   "execution_count": 18,
   "metadata": {
    "ExecuteTime": {
     "end_time": "2020-12-12T06:25:00.397985Z",
     "start_time": "2020-12-12T06:25:00.371525Z"
    }
   },
   "outputs": [
    {
     "name": "stdout",
     "output_type": "stream",
     "text": [
      "0.1297\n",
      "0.1547\n",
      "TPR: 0.239 FPR: 0.0142 TNR: 0.9858 FNR: 0.761\n",
      "predicted to buy: 0.049\n"
     ]
    }
   ],
   "source": [
    "from sklearn.metrics import confusion_matrix\n",
    "CM = confusion_matrix(ytest, ytest_LR)\n",
    "TPR = CM[1,1]/CM[1,:].sum()\n",
    "FPR = CM[0,1]/CM[0,:].sum()\n",
    "TNR = CM[0,0]/CM[0,:].sum()\n",
    "FNR = CM[1,0]/CM[1,:].sum()\n",
    "print(np.round(err_rate_LR,4))\n",
    "print(np.round((ytest==1).sum()/len(ytest),4))\n",
    "print(\"TPR:\", np.round(TPR,4),\n",
    "      \"FPR:\", np.round(FPR,4),\n",
    "      \"TNR:\", np.round(TNR,4),\n",
    "      \"FNR:\", np.round(FNR,4))\n",
    "print(\"predicted to buy:\", np.round((ytest_LR==1).sum()/len(ytest),4))"
   ]
  },
  {
   "cell_type": "markdown",
   "metadata": {},
   "source": [
    "### Lasso Regression"
   ]
  },
  {
   "cell_type": "code",
   "execution_count": 19,
   "metadata": {
    "ExecuteTime": {
     "end_time": "2020-12-12T06:25:00.465634Z",
     "start_time": "2020-12-12T06:25:00.400656Z"
    }
   },
   "outputs": [
    {
     "name": "stdout",
     "output_type": "stream",
     "text": [
      "0.1301\n",
      "0.1547\n",
      "TPR: 0.2285 FPR: 0.0127 TNR: 0.9873 FNR: 0.7715\n",
      "predicted to buy: 0.0461\n"
     ]
    }
   ],
   "source": [
    "LassoReg = Lasso(alpha=lasso_par).fit(Xtrain,ytrain)\n",
    "ytest_Lasso = np.sign(LassoReg.predict(Xtest))\n",
    "err_rate_Lasso = (ytest_Lasso!=ytest).sum()/len(ytest)\n",
    "\n",
    "CM = confusion_matrix(ytest, ytest_Lasso)\n",
    "TPR = CM[1,1]/CM[1,:].sum()\n",
    "FPR = CM[0,1]/CM[0,:].sum()\n",
    "TNR = CM[0,0]/CM[0,:].sum()\n",
    "FNR = CM[1,0]/CM[1,:].sum()\n",
    "print(np.round(err_rate_Lasso,4))\n",
    "print(np.round((ytest==1).sum()/len(ytest),4))\n",
    "print(\"TPR:\", np.round(TPR,4),\n",
    "      \"FPR:\", np.round(FPR,4),\n",
    "      \"TNR:\", np.round(TNR,4),\n",
    "      \"FNR:\", np.round(FNR,4))\n",
    "print(\"predicted to buy:\", np.round((ytest_Lasso==1).sum()/len(ytest),4))"
   ]
  },
  {
   "cell_type": "markdown",
   "metadata": {},
   "source": [
    "### LR using features selected by Lasso"
   ]
  },
  {
   "cell_type": "code",
   "execution_count": 20,
   "metadata": {
    "ExecuteTime": {
     "end_time": "2020-12-12T06:25:00.512336Z",
     "start_time": "2020-12-12T06:25:00.469032Z"
    }
   },
   "outputs": [
    {
     "name": "stdout",
     "output_type": "stream",
     "text": [
      "0.1288\n",
      "0.1547\n",
      "TPR: 0.239 FPR: 0.013 TNR: 0.987 FNR: 0.761\n",
      "predicted to buy: 0.048\n"
     ]
    }
   ],
   "source": [
    "LR_fs = LinearRegression().fit(Xtrain_lasso,ytrain)\n",
    "ytest_LRfs = np.sign(LR_fs.predict(Xtest_lasso))\n",
    "err_rate_LRfs = (ytest_LRfs!=ytest).sum()/len(ytest)\n",
    "\n",
    "CM = confusion_matrix(ytest, ytest_LRfs)\n",
    "TPR = CM[1,1]/CM[1,:].sum()\n",
    "FPR = CM[0,1]/CM[0,:].sum()\n",
    "TNR = CM[0,0]/CM[0,:].sum()\n",
    "FNR = CM[1,0]/CM[1,:].sum()\n",
    "print(np.round(err_rate_LRfs,4))\n",
    "print(np.round((ytest==1).sum()/len(ytest),4))\n",
    "print(\"TPR:\", np.round(TPR,4),\n",
    "      \"FPR:\", np.round(FPR,4),\n",
    "      \"TNR:\", np.round(TNR,4),\n",
    "      \"FNR:\", np.round(FNR,4))\n",
    "print(\"predicted to buy:\", np.round((ytest_LRfs==1).sum()/len(ytest),4))"
   ]
  },
  {
   "cell_type": "markdown",
   "metadata": {
    "ExecuteTime": {
     "end_time": "2020-12-02T04:01:58.511371Z",
     "start_time": "2020-12-02T04:01:58.507083Z"
    }
   },
   "source": [
    "### LR using features selected by correlation"
   ]
  },
  {
   "cell_type": "code",
   "execution_count": 21,
   "metadata": {
    "ExecuteTime": {
     "end_time": "2020-12-12T06:25:00.552343Z",
     "start_time": "2020-12-12T06:25:00.514887Z"
    }
   },
   "outputs": [
    {
     "name": "stdout",
     "output_type": "stream",
     "text": [
      "0.1297\n",
      "0.1547\n",
      "TPR: 0.239 FPR: 0.0142 TNR: 0.9858 FNR: 0.761\n",
      "predicted to buy: 0.049\n"
     ]
    }
   ],
   "source": [
    "LR_corr = LinearRegression().fit(Xtrain_corr,ytrain)\n",
    "ytest_LRcorr = np.sign(LR_corr.predict(Xtest_corr))\n",
    "err_rate_LRcorr = (ytest_LRcorr!=ytest).sum()/len(ytest)\n",
    "\n",
    "CM = confusion_matrix(ytest, ytest_LRcorr)\n",
    "TPR = CM[1,1]/CM[1,:].sum()\n",
    "FPR = CM[0,1]/CM[0,:].sum()\n",
    "TNR = CM[0,0]/CM[0,:].sum()\n",
    "FNR = CM[1,0]/CM[1,:].sum()\n",
    "print(np.round(err_rate_LRcorr,4))\n",
    "print(np.round((ytest==1).sum()/len(ytest),4))\n",
    "print(\"TPR:\", np.round(TPR,4),\n",
    "      \"FPR:\", np.round(FPR,4),\n",
    "      \"TNR:\", np.round(TNR,4),\n",
    "      \"FNR:\", np.round(FNR,4))\n",
    "print(\"predicted to buy:\", np.round((ytest_LRcorr==1).sum()/len(ytest),4))"
   ]
  },
  {
   "cell_type": "markdown",
   "metadata": {},
   "source": [
    "###  LR using dimension reduction from PCA"
   ]
  },
  {
   "cell_type": "code",
   "execution_count": 22,
   "metadata": {
    "ExecuteTime": {
     "end_time": "2020-12-12T06:25:00.590014Z",
     "start_time": "2020-12-12T06:25:00.554724Z"
    }
   },
   "outputs": [
    {
     "name": "stdout",
     "output_type": "stream",
     "text": [
      "0.1547\n",
      "0.1547\n",
      "TPR: 0.0 FPR: 0.0 TNR: 1.0 FNR: 1.0\n",
      "predicted to buy: 0.0\n"
     ]
    }
   ],
   "source": [
    "LR_PCA = LinearRegression().fit(Xtrain_PCA,ytrain)\n",
    "ytest_LRPCA = np.sign(LR_PCA.predict(Xtest_PCA))\n",
    "err_rate_LRPCA = (ytest_LRPCA!=ytest).sum()/len(ytest)\n",
    "\n",
    "CM = confusion_matrix(ytest, ytest_LRPCA)\n",
    "TPR = CM[1,1]/CM[1,:].sum()\n",
    "FPR = CM[0,1]/CM[0,:].sum()\n",
    "TNR = CM[0,0]/CM[0,:].sum()\n",
    "FNR = CM[1,0]/CM[1,:].sum()\n",
    "print(np.round(err_rate_LRPCA,4))\n",
    "print(np.round((ytest==1).sum()/len(ytest),4))\n",
    "print(\"TPR:\", np.round(TPR,4),\n",
    "      \"FPR:\", np.round(FPR,4),\n",
    "      \"TNR:\", np.round(TNR,4),\n",
    "      \"FNR:\", np.round(FNR,4))\n",
    "print(\"predicted to buy:\", np.round((ytest_LRPCA==1).sum()/len(ytest),4))"
   ]
  },
  {
   "cell_type": "markdown",
   "metadata": {},
   "source": [
    "## KNN Classifier"
   ]
  },
  {
   "cell_type": "markdown",
   "metadata": {},
   "source": [
    "### Using PCA for dimension reduction"
   ]
  },
  {
   "cell_type": "code",
   "execution_count": 23,
   "metadata": {
    "ExecuteTime": {
     "end_time": "2020-12-12T06:25:23.628126Z",
     "start_time": "2020-12-12T06:25:00.603639Z"
    },
    "code_folding": []
   },
   "outputs": [],
   "source": [
    "from sklearn.neighbors import KNeighborsClassifier as KNN\n",
    "score = []\n",
    "for i in range (5,50,5):\n",
    "    once = cross_val_score(KNN(i+1),Xtrain_PCA,ytrain,cv=10).mean()\n",
    "    score.append(once)"
   ]
  },
  {
   "cell_type": "code",
   "execution_count": 24,
   "metadata": {
    "ExecuteTime": {
     "end_time": "2020-12-12T06:25:23.895260Z",
     "start_time": "2020-12-12T06:25:23.634255Z"
    }
   },
   "outputs": [
    {
     "data": {
      "image/png": "[encoded data removed]",
      "text/plain": [
       "<Figure size 1152x648 with 1 Axes>"
      ]
     },
     "metadata": {
      "needs_background": "light"
     },
     "output_type": "display_data"
    }
   ],
   "source": [
    "plt.figure(figsize=[16,9])\n",
    "plt.plot(range(5,50,5),score)\n",
    "plt.xlabel(\"number of neighbors\")\n",
    "plt.ylabel(\"score from CV\")\n",
    "plt.show()"
   ]
  },
  {
   "cell_type": "code",
   "execution_count": 25,
   "metadata": {
    "ExecuteTime": {
     "end_time": "2020-12-12T06:25:55.265190Z",
     "start_time": "2020-12-12T06:25:23.897534Z"
    }
   },
   "outputs": [],
   "source": [
    "score = []\n",
    "for i in range (15,30,1):\n",
    "    once = cross_val_score(KNN(i),Xtrain_PCA,ytrain,cv=5).mean()\n",
    "    score.append(once)"
   ]
  },
  {
   "cell_type": "code",
   "execution_count": 26,
   "metadata": {
    "ExecuteTime": {
     "end_time": "2020-12-12T06:25:55.516775Z",
     "start_time": "2020-12-12T06:25:55.267420Z"
    }
   },
   "outputs": [
    {
     "data": {
      "image/png": "[encoded data removed]",
      "text/plain": [
       "<Figure size 1152x648 with 1 Axes>"
      ]
     },
     "metadata": {
      "needs_background": "light"
     },
     "output_type": "display_data"
    }
   ],
   "source": [
    "plt.figure(figsize=[16,9])\n",
    "plt.plot(range(15,30,1),score)\n",
    "plt.xlabel(\"number of neighbors\")\n",
    "plt.ylabel(\"score from CV\")\n",
    "plt.show()"
   ]
  },
  {
   "cell_type": "code",
   "execution_count": 27,
   "metadata": {
    "ExecuteTime": {
     "end_time": "2020-12-12T06:25:56.621048Z",
     "start_time": "2020-12-12T06:25:55.518757Z"
    }
   },
   "outputs": [],
   "source": [
    "knn_PCA = KNN(18)\n",
    "knn_PCA.fit(Xtrain_PCA,ytrain)\n",
    "ytest_knn_PCA = knn_PCA.predict(Xtest_PCA)\n",
    "err_rate_KNN_PCA = (ytest_knn_PCA!=ytest).sum()/len(ytest)"
   ]
  },
  {
   "cell_type": "code",
   "execution_count": 28,
   "metadata": {
    "ExecuteTime": {
     "end_time": "2020-12-12T06:25:56.631972Z",
     "start_time": "2020-12-12T06:25:56.623045Z"
    }
   },
   "outputs": [],
   "source": [
    "CM = confusion_matrix(ytest, ytest_knn_PCA)\n",
    "TPR = CM[1,1]/CM[1,:].sum()\n",
    "FPR = CM[0,1]/CM[0,:].sum()\n",
    "TNR = CM[0,0]/CM[0,:].sum()\n",
    "FNR = CM[1,0]/CM[1,:].sum()"
   ]
  },
  {
   "cell_type": "code",
   "execution_count": 29,
   "metadata": {
    "ExecuteTime": {
     "end_time": "2020-12-12T06:25:56.640604Z",
     "start_time": "2020-12-12T06:25:56.633841Z"
    }
   },
   "outputs": [
    {
     "name": "stdout",
     "output_type": "stream",
     "text": [
      "0.1576\n",
      "0.1547\n",
      "TPR: 0.0063 FPR: 0.0046 TNR: 0.9954 FNR: 0.9937\n",
      "predicted to buy: 0.0049\n"
     ]
    }
   ],
   "source": [
    "print(np.round(err_rate_KNN_PCA,4))\n",
    "print(np.round((ytest==1).sum()/len(ytest),4))\n",
    "print(\"TPR:\", np.round(TPR,4),\n",
    "      \"FPR:\", np.round(FPR,4),\n",
    "      \"TNR:\", np.round(TNR,4),\n",
    "      \"FNR:\", np.round(FNR,4))\n",
    "print(\"predicted to buy:\", np.round((ytest_knn_PCA==1).sum()/len(ytest),4))"
   ]
  },
  {
   "cell_type": "markdown",
   "metadata": {},
   "source": [
    "### Using correlation for feature selection"
   ]
  },
  {
   "cell_type": "code",
   "execution_count": 30,
   "metadata": {
    "ExecuteTime": {
     "end_time": "2020-12-12T06:26:05.296678Z",
     "start_time": "2020-12-12T06:25:56.643402Z"
    }
   },
   "outputs": [],
   "source": [
    "score = []\n",
    "for i in range (0,30,5):\n",
    "    once = cross_val_score(KNN(i+1),Xtrain_corr,ytrain,cv=10).mean()\n",
    "    score.append(once)"
   ]
  },
  {
   "cell_type": "code",
   "execution_count": 31,
   "metadata": {
    "ExecuteTime": {
     "end_time": "2020-12-12T06:26:05.511523Z",
     "start_time": "2020-12-12T06:26:05.299299Z"
    }
   },
   "outputs": [
    {
     "data": {
      "image/png": "[encoded data removed]",
      "text/plain": [
       "<Figure size 1152x648 with 1 Axes>"
      ]
     },
     "metadata": {
      "needs_background": "light"
     },
     "output_type": "display_data"
    }
   ],
   "source": [
    "plt.figure(figsize=[16,9])\n",
    "plt.plot(range(1,31,5),score)\n",
    "plt.xlabel(\"number of neighbors\")\n",
    "plt.ylabel(\"score from CV\")\n",
    "plt.show()"
   ]
  },
  {
   "cell_type": "code",
   "execution_count": 32,
   "metadata": {
    "ExecuteTime": {
     "end_time": "2020-12-12T06:26:19.262890Z",
     "start_time": "2020-12-12T06:26:05.513993Z"
    }
   },
   "outputs": [
    {
     "data": {
      "image/png": "[encoded data removed]",
      "text/plain": [
       "<Figure size 1152x648 with 1 Axes>"
      ]
     },
     "metadata": {
      "needs_background": "light"
     },
     "output_type": "display_data"
    }
   ],
   "source": [
    "score = []\n",
    "for i in range (4,14,1):\n",
    "    once = cross_val_score(KNN(i+1),Xtrain_corr,ytrain,cv=10).mean()\n",
    "    score.append(once)\n",
    "    \n",
    "plt.figure(figsize=[16,9])\n",
    "plt.plot(range(5,15,1),score)\n",
    "plt.xlabel(\"number of neighbors\")\n",
    "plt.ylabel(\"score from CV\")\n",
    "plt.show()"
   ]
  },
  {
   "cell_type": "code",
   "execution_count": 33,
   "metadata": {
    "ExecuteTime": {
     "end_time": "2020-12-12T06:26:19.665194Z",
     "start_time": "2020-12-12T06:26:19.265266Z"
    }
   },
   "outputs": [],
   "source": [
    "knn_corr = KNN(9)\n",
    "knn_corr.fit(Xtrain_corr,ytrain)\n",
    "ytest_knn_corr = knn_corr.predict(Xtest_corr)\n",
    "err_rate_KNN_corr = (ytest_knn_corr!=ytest).sum()/len(ytest)"
   ]
  },
  {
   "cell_type": "code",
   "execution_count": 34,
   "metadata": {
    "ExecuteTime": {
     "end_time": "2020-12-12T06:26:19.678229Z",
     "start_time": "2020-12-12T06:26:19.667185Z"
    }
   },
   "outputs": [
    {
     "name": "stdout",
     "output_type": "stream",
     "text": [
      "0.1255\n",
      "0.1547\n",
      "TPR: 0.3543 FPR: 0.0303 TNR: 0.9697 FNR: 0.6457\n",
      "predicted to buy: 0.0804\n"
     ]
    }
   ],
   "source": [
    "CM = confusion_matrix(ytest, ytest_knn_corr)\n",
    "TPR = CM[1,1]/CM[1,:].sum()\n",
    "FPR = CM[0,1]/CM[0,:].sum()\n",
    "TNR = CM[0,0]/CM[0,:].sum()\n",
    "FNR = CM[1,0]/CM[1,:].sum()\n",
    "\n",
    "print(np.round(err_rate_KNN_corr,4))\n",
    "print(np.round((ytest==1).sum()/len(ytest),4))\n",
    "print(\"TPR:\", np.round(TPR,4),\n",
    "      \"FPR:\", np.round(FPR,4),\n",
    "      \"TNR:\", np.round(TNR,4),\n",
    "      \"FNR:\", np.round(FNR,4))\n",
    "print(\"predicted to buy:\", np.round((ytest_knn_corr==1).sum()/len(ytest),4))"
   ]
  },
  {
   "cell_type": "markdown",
   "metadata": {},
   "source": [
    "### Using Lasso for feature selection"
   ]
  },
  {
   "cell_type": "code",
   "execution_count": 35,
   "metadata": {
    "ExecuteTime": {
     "end_time": "2020-12-12T06:26:50.179804Z",
     "start_time": "2020-12-12T06:26:19.680778Z"
    }
   },
   "outputs": [],
   "source": [
    "score = []\n",
    "for i in range (0,30,5):\n",
    "    once = cross_val_score(KNN(i+1),Xtrain_lasso,ytrain,cv=10).mean()\n",
    "    score.append(once)"
   ]
  },
  {
   "cell_type": "code",
   "execution_count": 36,
   "metadata": {
    "ExecuteTime": {
     "end_time": "2020-12-12T06:26:50.370466Z",
     "start_time": "2020-12-12T06:26:50.181955Z"
    }
   },
   "outputs": [
    {
     "data": {
      "image/png": "[encoded data removed]",
      "text/plain": [
       "<Figure size 1152x648 with 1 Axes>"
      ]
     },
     "metadata": {
      "needs_background": "light"
     },
     "output_type": "display_data"
    }
   ],
   "source": [
    "plt.figure(figsize=[16,9])\n",
    "plt.plot(range(1,31,5),score)\n",
    "plt.xlabel(\"number of neighbors\")\n",
    "plt.ylabel(\"score from CV\")\n",
    "plt.show()"
   ]
  },
  {
   "cell_type": "code",
   "execution_count": 37,
   "metadata": {
    "ExecuteTime": {
     "end_time": "2020-12-12T06:27:46.026445Z",
     "start_time": "2020-12-12T06:26:50.372531Z"
    }
   },
   "outputs": [
    {
     "data": {
      "image/png": "[encoded data removed]",
      "text/plain": [
       "<Figure size 1152x648 with 1 Axes>"
      ]
     },
     "metadata": {
      "needs_background": "light"
     },
     "output_type": "display_data"
    }
   ],
   "source": [
    "score = []\n",
    "for i in range (4,14,1):\n",
    "    once = cross_val_score(KNN(i+1),Xtrain_lasso,ytrain,cv=10).mean()\n",
    "    score.append(once)\n",
    "    \n",
    "plt.figure(figsize=[16,9])\n",
    "plt.plot(range(5,15,1),score)\n",
    "plt.xlabel(\"number of neighbors\")\n",
    "plt.ylabel(\"score from CV\")\n",
    "plt.show()"
   ]
  },
  {
   "cell_type": "code",
   "execution_count": 38,
   "metadata": {
    "ExecuteTime": {
     "end_time": "2020-12-12T06:27:47.857847Z",
     "start_time": "2020-12-12T06:27:46.028982Z"
    }
   },
   "outputs": [],
   "source": [
    "knn_lasso = KNN(8)\n",
    "knn_lasso.fit(Xtrain_lasso,ytrain)\n",
    "ytest_knn_lasso = knn_lasso.predict(Xtest_lasso)\n",
    "err_rate_KNN_lasso = (ytest_knn_lasso!=ytest).sum()/len(ytest)"
   ]
  },
  {
   "cell_type": "code",
   "execution_count": 39,
   "metadata": {
    "ExecuteTime": {
     "end_time": "2020-12-12T06:27:47.871541Z",
     "start_time": "2020-12-12T06:27:47.860416Z"
    }
   },
   "outputs": [
    {
     "name": "stdout",
     "output_type": "stream",
     "text": [
      "0.1512\n",
      "0.1547\n",
      "TPR: 0.065 FPR: 0.0077 TNR: 0.9923 FNR: 0.935\n",
      "predicted to buy: 0.0165\n"
     ]
    }
   ],
   "source": [
    "CM = confusion_matrix(ytest, ytest_knn_lasso)\n",
    "TPR = CM[1,1]/CM[1,:].sum()\n",
    "FPR = CM[0,1]/CM[0,:].sum()\n",
    "TNR = CM[0,0]/CM[0,:].sum()\n",
    "FNR = CM[1,0]/CM[1,:].sum()\n",
    "\n",
    "print(np.round(err_rate_KNN_lasso,4))\n",
    "print(np.round((ytest==1).sum()/len(ytest),4))\n",
    "print(\"TPR:\", np.round(TPR,4),\n",
    "      \"FPR:\", np.round(FPR,4),\n",
    "      \"TNR:\", np.round(TNR,4),\n",
    "      \"FNR:\", np.round(FNR,4))\n",
    "print(\"predicted to buy:\", np.round((ytest_knn_lasso==1).sum()/len(ytest),4))"
   ]
  },
  {
   "cell_type": "markdown",
   "metadata": {},
   "source": [
    "### Kernel SVM"
   ]
  },
  {
   "cell_type": "code",
   "execution_count": 40,
   "metadata": {
    "ExecuteTime": {
     "end_time": "2020-12-12T06:27:47.876410Z",
     "start_time": "2020-12-12T06:27:47.873729Z"
    }
   },
   "outputs": [],
   "source": [
    "from sklearn.svm import SVC\n",
    "from time import time\n",
    "import datetime"
   ]
  },
  {
   "cell_type": "code",
   "execution_count": 41,
   "metadata": {
    "ExecuteTime": {
     "end_time": "2020-12-12T06:27:48.393354Z",
     "start_time": "2020-12-12T06:27:47.878597Z"
    }
   },
   "outputs": [
    {
     "name": "stdout",
     "output_type": "stream",
     "text": [
      "(9247, 2)\n"
     ]
    },
    {
     "data": {
      "text/plain": [
       "<function matplotlib.pyplot.show(*args, **kw)>"
      ]
     },
     "execution_count": 41,
     "metadata": {},
     "output_type": "execute_result"
    },
    {
     "data": {
      "image/png": "[encoded data removed]",
      "text/plain": [
       "<Figure size 432x288 with 1 Axes>"
      ]
     },
     "metadata": {
      "needs_background": "light"
     },
     "output_type": "display_data"
    }
   ],
   "source": [
    "X_dr = PCA(2).fit_transform(Xtrain)\n",
    "print(X_dr.shape)\n",
    "plt.scatter(X_dr[:,0],X_dr[:,1],c=ytrain)\n",
    "plt.show"
   ]
  },
  {
   "cell_type": "code",
   "execution_count": 42,
   "metadata": {
    "ExecuteTime": {
     "end_time": "2020-12-12T06:28:01.687076Z",
     "start_time": "2020-12-12T06:27:48.395721Z"
    }
   },
   "outputs": [
    {
     "name": "stdout",
     "output_type": "stream",
     "text": [
      "The accuracy under kernel linear is 0.876419\n",
      "3.9670259952545166\n",
      "The accuracy under kernel rbf is 0.845281\n",
      "4.767705917358398\n",
      "The accuracy under kernel sigmoid is 0.845281\n",
      "4.5521931648254395\n"
     ]
    }
   ],
   "source": [
    "Kernel = [\"linear\",\"rbf\",\"sigmoid\"]\n",
    " \n",
    "for kernel in Kernel:\n",
    "    time0 = time()\n",
    "    clf= SVC(kernel = kernel\n",
    "             , gamma=\"auto\"\n",
    "             , cache_size=10000#MB\n",
    "            ).fit(Xtrain,ytrain)\n",
    "    print(\"The accuracy under kernel %s is %f\" % (kernel,clf.score(Xtest,ytest)))\n",
    "    print(time()-time0)"
   ]
  },
  {
   "cell_type": "code",
   "execution_count": 43,
   "metadata": {
    "ExecuteTime": {
     "end_time": "2020-12-12T06:28:06.238908Z",
     "start_time": "2020-12-12T06:28:01.689463Z"
    }
   },
   "outputs": [
    {
     "name": "stdout",
     "output_type": "stream",
     "text": [
      "The accuracy under kernel linear is 0.876743\n",
      "1.0568571090698242\n",
      "The accuracy under kernel rbf is 0.857282\n",
      "1.4270238876342773\n",
      "The accuracy under kernel sigmoid is 0.848524\n",
      "2.0613460540771484\n"
     ]
    }
   ],
   "source": [
    " for kernel in Kernel:\n",
    "    time0 = time()\n",
    "    clf= SVC(kernel = kernel\n",
    "             , gamma=\"auto\"\n",
    "             , cache_size=10000#MB\n",
    "            ).fit(Xtrain_corr,ytrain)\n",
    "    print(\"The accuracy under kernel %s is %f\" % (kernel,clf.score(Xtest_corr,ytest)))\n",
    "    print(time()-time0)"
   ]
  },
  {
   "cell_type": "code",
   "execution_count": 44,
   "metadata": {
    "ExecuteTime": {
     "end_time": "2020-12-12T06:28:13.158610Z",
     "start_time": "2020-12-12T06:28:06.241242Z"
    }
   },
   "outputs": [
    {
     "name": "stdout",
     "output_type": "stream",
     "text": [
      "The accuracy under kernel linear is 0.845281\n",
      "1.0533397197723389\n",
      "The accuracy under kernel rbf is 0.845281\n",
      "3.2566561698913574\n",
      "The accuracy under kernel sigmoid is 0.845281\n",
      "2.60326886177063\n"
     ]
    }
   ],
   "source": [
    "for kernel in Kernel:\n",
    "    time0 = time()\n",
    "    clf= SVC(kernel = kernel\n",
    "             , gamma=\"auto\"\n",
    "             , cache_size=10000#MB\n",
    "            ).fit(Xtrain_PCA,ytrain)\n",
    "    print(\"The accuracy under kernel %s is %f\" % (kernel,clf.score(Xtest_PCA,ytest)))\n",
    "    print(time()-time0)"
   ]
  },
  {
   "cell_type": "code",
   "execution_count": 45,
   "metadata": {
    "ExecuteTime": {
     "end_time": "2020-12-12T06:28:21.162817Z",
     "start_time": "2020-12-12T06:28:13.160915Z"
    }
   },
   "outputs": [
    {
     "name": "stdout",
     "output_type": "stream",
     "text": [
      "The accuracy under kernel linear is 0.876095\n",
      "2.420147180557251\n",
      "The accuracy under kernel rbf is 0.845929\n",
      "2.7843661308288574\n",
      "The accuracy under kernel sigmoid is 0.844956\n",
      "2.7934939861297607\n"
     ]
    }
   ],
   "source": [
    "for kernel in Kernel:\n",
    "    time0 = time()\n",
    "    clf= SVC(kernel = kernel\n",
    "             , gamma=\"auto\"\n",
    "             , cache_size=10000#MB\n",
    "            ).fit(Xtrain_lasso,ytrain)\n",
    "    print(\"The accuracy under kernel %s is %f\" % (kernel,clf.score(Xtest_lasso,ytest)))\n",
    "    print(time()-time0)"
   ]
  },
  {
   "cell_type": "code",
   "execution_count": 46,
   "metadata": {
    "ExecuteTime": {
     "end_time": "2020-12-12T06:28:21.170437Z",
     "start_time": "2020-12-12T06:28:21.165657Z"
    }
   },
   "outputs": [
    {
     "data": {
      "text/plain": [
       "0.8452471071698929"
      ]
     },
     "execution_count": 46,
     "metadata": {},
     "output_type": "execute_result"
    }
   ],
   "source": [
    "(ytrain==-1).sum()/len(ytrain)"
   ]
  },
  {
   "cell_type": "code",
   "execution_count": 47,
   "metadata": {
    "ExecuteTime": {
     "end_time": "2020-12-12T06:29:04.775489Z",
     "start_time": "2020-12-12T06:28:21.172410Z"
    }
   },
   "outputs": [
    {
     "name": "stdout",
     "output_type": "stream",
     "text": [
      "0.8822575413558222 18.873918221350994\n"
     ]
    },
    {
     "data": {
      "image/png": "[encoded data removed]",
      "text/plain": [
       "<Figure size 432x288 with 1 Axes>"
      ]
     },
     "metadata": {
      "needs_background": "light"
     },
     "output_type": "display_data"
    }
   ],
   "source": [
    "score = []\n",
    "gamma_range = np.logspace(-5, 2, 30) \n",
    "for i in gamma_range:\n",
    "    clf = SVC(kernel=\"rbf\",gamma = i,cache_size=10000).fit(Xtrain_corr,ytrain)\n",
    "    score.append(clf.score(Xtest_corr,ytest))\n",
    "    \n",
    "print(max(score), gamma_range[score.index(max(score))])\n",
    "plt.plot(gamma_range,score)\n",
    "plt.show()\n"
   ]
  },
  {
   "cell_type": "code",
   "execution_count": 48,
   "metadata": {
    "ExecuteTime": {
     "end_time": "2020-12-12T06:29:06.604035Z",
     "start_time": "2020-12-12T06:29:04.777714Z"
    }
   },
   "outputs": [],
   "source": [
    "kSVM=SVC(kernel=\"rbf\",gamma=18.874,cache_size=10000)\n",
    "kSVM.fit(Xtrain_corr,ytrain)\n",
    "ytest_kSVM = kSVM.predict(Xtest_corr)\n",
    "err_rate_kSVM = (ytest_kSVM!=ytest).sum()/len(ytest)"
   ]
  },
  {
   "cell_type": "code",
   "execution_count": 49,
   "metadata": {
    "ExecuteTime": {
     "end_time": "2020-12-12T06:29:06.617309Z",
     "start_time": "2020-12-12T06:29:06.606072Z"
    }
   },
   "outputs": [
    {
     "name": "stdout",
     "output_type": "stream",
     "text": [
      "0.1177\n",
      "0.1547\n",
      "TPR: 0.3627 FPR: 0.0226 TNR: 0.9774 FNR: 0.6373\n",
      "predicted to buy: 0.0753\n"
     ]
    }
   ],
   "source": [
    "CM = confusion_matrix(ytest, ytest_kSVM)\n",
    "TPR = CM[1,1]/CM[1,:].sum()\n",
    "FPR = CM[0,1]/CM[0,:].sum()\n",
    "TNR = CM[0,0]/CM[0,:].sum()\n",
    "FNR = CM[1,0]/CM[1,:].sum()\n",
    "\n",
    "print(np.round(err_rate_kSVM,4))\n",
    "print(np.round((ytest==1).sum()/len(ytest),4))\n",
    "print(\"TPR:\", np.round(TPR,4),\n",
    "      \"FPR:\", np.round(FPR,4),\n",
    "      \"TNR:\", np.round(TNR,4),\n",
    "      \"FNR:\", np.round(FNR,4))\n",
    "print(\"predicted to buy:\", np.round((ytest_kSVM==1).sum()/len(ytest),4))"
   ]
  },
  {
   "cell_type": "markdown",
   "metadata": {},
   "source": [
    "### Gaussian Kernel SVM with weighted sample"
   ]
  },
  {
   "cell_type": "code",
   "execution_count": 53,
   "metadata": {
    "ExecuteTime": {
     "end_time": "2020-12-12T06:30:44.386420Z",
     "start_time": "2020-12-12T06:30:41.497129Z"
    }
   },
   "outputs": [],
   "source": [
    "wkSVM=SVC(kernel=\"rbf\",gamma=18.874,cache_size=10000,class_weight={1:6})\n",
    "wkSVM.fit(Xtrain_corr,ytrain)\n",
    "ytest_wkSVM = kSVM.predict(Xtest_corr)\n",
    "err_rate_wkSVM = (ytest_kSVM!=ytest).sum()/len(ytest)"
   ]
  },
  {
   "cell_type": "code",
   "execution_count": 54,
   "metadata": {
    "ExecuteTime": {
     "end_time": "2020-12-12T06:30:50.158935Z",
     "start_time": "2020-12-12T06:30:50.148848Z"
    }
   },
   "outputs": [
    {
     "name": "stdout",
     "output_type": "stream",
     "text": [
      "0.1177\n",
      "0.1547\n",
      "TPR: 0.3627 FPR: 0.0226 TNR: 0.9774 FNR: 0.6373\n",
      "predicted to buy: 0.0753\n"
     ]
    }
   ],
   "source": [
    "CM = confusion_matrix(ytest, ytest_wkSVM)\n",
    "TPR = CM[1,1]/CM[1,:].sum()\n",
    "FPR = CM[0,1]/CM[0,:].sum()\n",
    "TNR = CM[0,0]/CM[0,:].sum()\n",
    "FNR = CM[1,0]/CM[1,:].sum()\n",
    "\n",
    "print(np.round(err_rate_wkSVM,4))\n",
    "print(np.round((ytest==1).sum()/len(ytest),4))\n",
    "print(\"TPR:\", np.round(TPR,4),\n",
    "      \"FPR:\", np.round(FPR,4),\n",
    "      \"TNR:\", np.round(TNR,4),\n",
    "      \"FNR:\", np.round(FNR,4))\n",
    "print(\"predicted to buy:\", np.round((ytest_wkSVM==1).sum()/len(ytest),4))"
   ]
  },
  {
   "cell_type": "code",
   "execution_count": null,
   "metadata": {},
   "outputs": [],
   "source": []
  }
 ],
 "metadata": {
  "kernelspec": {
   "display_name": "Python 3",
   "language": "python",
   "name": "python3"
  },
  "language_info": {
   "codemirror_mode": {
    "name": "ipython",
    "version": 3
   },
   "file_extension": ".py",
   "mimetype": "text/x-python",
   "name": "python",
   "nbconvert_exporter": "python",
   "pygments_lexer": "ipython3",
   "version": "3.8.0"
  },
  "toc": {
   "base_numbering": 1,
   "nav_menu": {},
   "number_sections": true,
   "sideBar": true,
   "skip_h1_title": false,
   "title_cell": "Table of Contents",
   "title_sidebar": "Contents",
   "toc_cell": false,
   "toc_position": {},
   "toc_section_display": true,
   "toc_window_display": false
  },
  "varInspector": {
   "cols": {
    "lenName": 16,
    "lenType": 16,
    "lenVar": 40
   },
   "kernels_config": {
    "python": {
     "delete_cmd_postfix": "",
     "delete_cmd_prefix": "del ",
     "library": "var_list.py",
     "varRefreshCmd": "print(var_dic_list())"
    },
    "r": {
     "delete_cmd_postfix": ") ",
     "delete_cmd_prefix": "rm(",
     "library": "var_list.r",
     "varRefreshCmd": "cat(var_dic_list()) "
    }
   },
   "types_to_exclude": [
    "module",
    "function",
    "builtin_function_or_method",
    "instance",
    "_Feature"
   ],
   "window_display": false
  }
 },
 "nbformat": 4,
 "nbformat_minor": 2
}
