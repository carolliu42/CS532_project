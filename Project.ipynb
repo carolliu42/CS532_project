{
 "cells": [
  {
   "cell_type": "code",
   "execution_count": 1,
   "metadata": {
    "ExecuteTime": {
     "end_time": "2020-12-02T00:01:45.440093Z",
     "start_time": "2020-12-02T00:01:44.694411Z"
    }
   },
   "outputs": [],
   "source": [
    "import numpy as np\n",
    "import pandas as pd\n",
    "from matplotlib import pyplot as plt"
   ]
  },
  {
   "cell_type": "code",
   "execution_count": 2,
   "metadata": {
    "ExecuteTime": {
     "end_time": "2020-12-02T00:01:45.479617Z",
     "start_time": "2020-12-02T00:01:45.442344Z"
    }
   },
   "outputs": [
    {
     "name": "stdout",
     "output_type": "stream",
     "text": [
      "<class 'pandas.core.frame.DataFrame'>\n",
      "RangeIndex: 12330 entries, 0 to 12329\n",
      "Data columns (total 18 columns):\n",
      " #   Column                   Non-Null Count  Dtype  \n",
      "---  ------                   --------------  -----  \n",
      " 0   Administrative           12330 non-null  int64  \n",
      " 1   Administrative_Duration  12330 non-null  float64\n",
      " 2   Informational            12330 non-null  int64  \n",
      " 3   Informational_Duration   12330 non-null  float64\n",
      " 4   ProductRelated           12330 non-null  int64  \n",
      " 5   ProductRelated_Duration  12330 non-null  float64\n",
      " 6   BounceRates              12330 non-null  float64\n",
      " 7   ExitRates                12330 non-null  float64\n",
      " 8   PageValues               12330 non-null  float64\n",
      " 9   SpecialDay               12330 non-null  float64\n",
      " 10  Month                    12330 non-null  object \n",
      " 11  OperatingSystems         12330 non-null  int64  \n",
      " 12  Browser                  12330 non-null  int64  \n",
      " 13  Region                   12330 non-null  int64  \n",
      " 14  TrafficType              12330 non-null  int64  \n",
      " 15  VisitorType              12330 non-null  object \n",
      " 16  Weekend                  12330 non-null  bool   \n",
      " 17  Revenue                  12330 non-null  bool   \n",
      "dtypes: bool(2), float64(7), int64(7), object(2)\n",
      "memory usage: 1.5+ MB\n",
      "shape: None\n"
     ]
    }
   ],
   "source": [
    "# import the raw dataset\n",
    "raw_data = pd.read_csv('online_shoppers_intention.csv')\n",
    "print(raw_data.info())"
   ]
  },
  {
   "cell_type": "code",
   "execution_count": 3,
   "metadata": {
    "ExecuteTime": {
     "end_time": "2020-12-02T00:01:45.503180Z",
     "start_time": "2020-12-02T00:01:45.482295Z"
    }
   },
   "outputs": [
    {
     "data": {
      "text/html": [
       "<div>\n",
       "<style scoped>\n",
       "    .dataframe tbody tr th:only-of-type {\n",
       "        vertical-align: middle;\n",
       "    }\n",
       "\n",
       "    .dataframe tbody tr th {\n",
       "        vertical-align: top;\n",
       "    }\n",
       "\n",
       "    .dataframe thead th {\n",
       "        text-align: right;\n",
       "    }\n",
       "</style>\n",
       "<table border=\"1\" class=\"dataframe\">\n",
       "  <thead>\n",
       "    <tr style=\"text-align: right;\">\n",
       "      <th></th>\n",
       "      <th>Administrative</th>\n",
       "      <th>Administrative_Duration</th>\n",
       "      <th>Informational</th>\n",
       "      <th>Informational_Duration</th>\n",
       "      <th>ProductRelated</th>\n",
       "      <th>ProductRelated_Duration</th>\n",
       "      <th>BounceRates</th>\n",
       "      <th>ExitRates</th>\n",
       "      <th>PageValues</th>\n",
       "      <th>SpecialDay</th>\n",
       "      <th>Month</th>\n",
       "      <th>OperatingSystems</th>\n",
       "      <th>Browser</th>\n",
       "      <th>Region</th>\n",
       "      <th>TrafficType</th>\n",
       "      <th>VisitorType</th>\n",
       "      <th>Weekend</th>\n",
       "      <th>Revenue</th>\n",
       "    </tr>\n",
       "  </thead>\n",
       "  <tbody>\n",
       "    <tr>\n",
       "      <th>0</th>\n",
       "      <td>0</td>\n",
       "      <td>0.0</td>\n",
       "      <td>0</td>\n",
       "      <td>0.0</td>\n",
       "      <td>1</td>\n",
       "      <td>0.0</td>\n",
       "      <td>0.2</td>\n",
       "      <td>0.2</td>\n",
       "      <td>0.0</td>\n",
       "      <td>0.0</td>\n",
       "      <td>Feb</td>\n",
       "      <td>1</td>\n",
       "      <td>1</td>\n",
       "      <td>1</td>\n",
       "      <td>1</td>\n",
       "      <td>Returning_Visitor</td>\n",
       "      <td>False</td>\n",
       "      <td>False</td>\n",
       "    </tr>\n",
       "    <tr>\n",
       "      <th>1</th>\n",
       "      <td>0</td>\n",
       "      <td>0.0</td>\n",
       "      <td>0</td>\n",
       "      <td>0.0</td>\n",
       "      <td>2</td>\n",
       "      <td>64.0</td>\n",
       "      <td>0.0</td>\n",
       "      <td>0.1</td>\n",
       "      <td>0.0</td>\n",
       "      <td>0.0</td>\n",
       "      <td>Feb</td>\n",
       "      <td>2</td>\n",
       "      <td>2</td>\n",
       "      <td>1</td>\n",
       "      <td>2</td>\n",
       "      <td>Returning_Visitor</td>\n",
       "      <td>False</td>\n",
       "      <td>False</td>\n",
       "    </tr>\n",
       "    <tr>\n",
       "      <th>2</th>\n",
       "      <td>0</td>\n",
       "      <td>0.0</td>\n",
       "      <td>0</td>\n",
       "      <td>0.0</td>\n",
       "      <td>1</td>\n",
       "      <td>0.0</td>\n",
       "      <td>0.2</td>\n",
       "      <td>0.2</td>\n",
       "      <td>0.0</td>\n",
       "      <td>0.0</td>\n",
       "      <td>Feb</td>\n",
       "      <td>4</td>\n",
       "      <td>1</td>\n",
       "      <td>9</td>\n",
       "      <td>3</td>\n",
       "      <td>Returning_Visitor</td>\n",
       "      <td>False</td>\n",
       "      <td>False</td>\n",
       "    </tr>\n",
       "  </tbody>\n",
       "</table>\n",
       "</div>"
      ],
      "text/plain": [
       "   Administrative  Administrative_Duration  Informational  \\\n",
       "0               0                      0.0              0   \n",
       "1               0                      0.0              0   \n",
       "2               0                      0.0              0   \n",
       "\n",
       "   Informational_Duration  ProductRelated  ProductRelated_Duration  \\\n",
       "0                     0.0               1                      0.0   \n",
       "1                     0.0               2                     64.0   \n",
       "2                     0.0               1                      0.0   \n",
       "\n",
       "   BounceRates  ExitRates  PageValues  SpecialDay Month  OperatingSystems  \\\n",
       "0          0.2        0.2         0.0         0.0   Feb                 1   \n",
       "1          0.0        0.1         0.0         0.0   Feb                 2   \n",
       "2          0.2        0.2         0.0         0.0   Feb                 4   \n",
       "\n",
       "   Browser  Region  TrafficType        VisitorType  Weekend  Revenue  \n",
       "0        1       1            1  Returning_Visitor    False    False  \n",
       "1        2       1            2  Returning_Visitor    False    False  \n",
       "2        1       9            3  Returning_Visitor    False    False  "
      ]
     },
     "execution_count": 3,
     "metadata": {},
     "output_type": "execute_result"
    }
   ],
   "source": [
    "raw_data.head(3)"
   ]
  },
  {
   "cell_type": "markdown",
   "metadata": {
    "ExecuteTime": {
     "end_time": "2020-11-18T00:11:00.756117Z",
     "start_time": "2020-11-18T00:11:00.754341Z"
    }
   },
   "source": [
    "## Pre-processing the data"
   ]
  },
  {
   "cell_type": "code",
   "execution_count": 164,
   "metadata": {
    "ExecuteTime": {
     "end_time": "2020-12-02T02:49:25.068743Z",
     "start_time": "2020-12-02T02:49:25.050380Z"
    }
   },
   "outputs": [
    {
     "name": "stdout",
     "output_type": "stream",
     "text": [
      "<class 'pandas.core.frame.DataFrame'>\n",
      "RangeIndex: 12330 entries, 0 to 12329\n",
      "Data columns (total 18 columns):\n",
      " #   Column                   Non-Null Count  Dtype  \n",
      "---  ------                   --------------  -----  \n",
      " 0   Administrative           12330 non-null  int64  \n",
      " 1   Administrative_Duration  12330 non-null  float64\n",
      " 2   Informational            12330 non-null  int64  \n",
      " 3   Informational_Duration   12330 non-null  float64\n",
      " 4   ProductRelated           12330 non-null  int64  \n",
      " 5   ProductRelated_Duration  12330 non-null  float64\n",
      " 6   BounceRates              12330 non-null  float64\n",
      " 7   ExitRates                12330 non-null  float64\n",
      " 8   PageValues               12330 non-null  float64\n",
      " 9   SpecialDay               12330 non-null  float64\n",
      " 10  Month                    12330 non-null  object \n",
      " 11  OperatingSystems         12330 non-null  object \n",
      " 12  Browser                  12330 non-null  object \n",
      " 13  Region                   12330 non-null  object \n",
      " 14  TrafficType              12330 non-null  object \n",
      " 15  VisitorType              12330 non-null  object \n",
      " 16  Weekend                  12330 non-null  int64  \n",
      " 17  Revenue                  12330 non-null  int64  \n",
      "dtypes: float64(7), int64(5), object(6)\n",
      "memory usage: 1.7+ MB\n",
      "None\n"
     ]
    }
   ],
   "source": [
    "# build a new dataframe and change some data type\n",
    "shopperdata = raw_data\n",
    "shopperdata[['OperatingSystems','Browser','Region','TrafficType']] = shopperdata[['OperatingSystems','Browser','Region','TrafficType']].astype('object')\n",
    "shopperdata['Revenue'] = shopperdata['Revenue'].replace([True,False],[1,0])\n",
    "shopperdata['Weekend'] = shopperdata['Weekend'].astype(\"int\")\n",
    "print(shopperdata.info())"
   ]
  },
  {
   "cell_type": "code",
   "execution_count": 165,
   "metadata": {
    "ExecuteTime": {
     "end_time": "2020-12-02T02:49:29.363058Z",
     "start_time": "2020-12-02T02:49:29.318267Z"
    }
   },
   "outputs": [
    {
     "name": "stdout",
     "output_type": "stream",
     "text": [
      "(12330, 74) (12330, 1)\n",
      "Administrative                   float64\n",
      "Administrative_Duration          float64\n",
      "Informational                    float64\n",
      "Informational_Duration           float64\n",
      "ProductRelated                   float64\n",
      "                                  ...   \n",
      "TrafficType_19                     uint8\n",
      "TrafficType_20                     uint8\n",
      "VisitorType_New_Visitor            uint8\n",
      "VisitorType_Other                  uint8\n",
      "VisitorType_Returning_Visitor      uint8\n",
      "Length: 74, dtype: object\n",
      "Revenue    int64\n",
      "dtype: object\n"
     ]
    }
   ],
   "source": [
    "# create new dummy variables based on categoricals\n",
    "X = pd.get_dummies(shopperdata, columns=shopperdata.columns[shopperdata.dtypes == \"object\"])\n",
    "X.drop(['Revenue'],axis =1, inplace = True )\n",
    "\n",
    "# normalize all the numerical columns\n",
    "X_num = X.iloc[:,0:10]\n",
    "X_num_norm = (X_num-X_num.min())/(X_num.max()-X_num.min())\n",
    "X.iloc[:,0:10] = X_num_norm  \n",
    "\n",
    "# Construct the response variable for classification\n",
    "y = shopperdata.loc[:,['Revenue']]\n",
    "\n",
    "\n",
    "print(X.shape, y.shape)\n",
    "print(X.dtypes)\n",
    "print(y.dtypes)"
   ]
  },
  {
   "cell_type": "code",
   "execution_count": 166,
   "metadata": {
    "ExecuteTime": {
     "end_time": "2020-12-02T02:49:32.781547Z",
     "start_time": "2020-12-02T02:49:32.716791Z"
    }
   },
   "outputs": [],
   "source": [
    "# split whole datasize into training and testing (25%)\n",
    "Xtrain, Xtest, ytrain, ytest = train_test_split(X,y,test_size=0.25,random_state=1001,stratify = y)\n",
    "data_train = pd.concat([Xtrain,ytrain],axis=1)\n",
    "\n",
    "#convert y from datafame to array for future use\n",
    "ytrain = ytrain.values.ravel()\n",
    "ytest = ytest.values.ravel()"
   ]
  },
  {
   "cell_type": "markdown",
   "metadata": {},
   "source": [
    "## Feature Selection"
   ]
  },
  {
   "cell_type": "markdown",
   "metadata": {},
   "source": [
    "### Correlation"
   ]
  },
  {
   "cell_type": "code",
   "execution_count": 167,
   "metadata": {
    "ExecuteTime": {
     "end_time": "2020-12-02T02:49:39.090794Z",
     "start_time": "2020-12-02T02:49:38.126675Z"
    }
   },
   "outputs": [
    {
     "data": {
      "image/png": "[encoded data removed]",
      "text/plain": [
       "<Figure size 432x288 with 1 Axes>"
      ]
     },
     "metadata": {
      "needs_background": "light"
     },
     "output_type": "display_data"
    }
   ],
   "source": [
    "corr = data_train.corr()\n",
    "corr_y = corr.loc[\"Revenue\"].sort_values()\n",
    "corr_y.drop([\"Revenue\"],axis =0, inplace = True )\n",
    "plt.figure()\n",
    "plt.plot(corr_y)\n",
    "plt.hlines(y=(-0.1,0.03),xmin=0,xmax=75,color='r',lw=1,linestyle='dashed')\n",
    "plt.show()"
   ]
  },
  {
   "cell_type": "code",
   "execution_count": 158,
   "metadata": {
    "ExecuteTime": {
     "end_time": "2020-12-02T02:26:06.228952Z",
     "start_time": "2020-12-02T02:26:06.223845Z"
    }
   },
   "outputs": [
    {
     "data": {
      "text/plain": [
       "['ExitRates',\n",
       " 'BounceRates',\n",
       " 'VisitorType_Returning_Visitor',\n",
       " 'TrafficType_20',\n",
       " 'TrafficType_8',\n",
       " 'OperatingSystems_2',\n",
       " 'Informational_Duration',\n",
       " 'Informational',\n",
       " 'Administrative_Duration',\n",
       " 'VisitorType_New_Visitor',\n",
       " 'TrafficType_2',\n",
       " 'Administrative',\n",
       " 'ProductRelated_Duration',\n",
       " 'ProductRelated',\n",
       " 'Month_Nov',\n",
       " 'PageValues']"
      ]
     },
     "execution_count": 158,
     "metadata": {},
     "output_type": "execute_result"
    }
   ],
   "source": [
    "fea_list_corr = list(corr_y[(corr_y<=-0.1)|(corr_y>=0.03)].index)\n",
    "fea_list_corr"
   ]
  },
  {
   "cell_type": "code",
   "execution_count": 248,
   "metadata": {
    "ExecuteTime": {
     "end_time": "2020-12-02T04:13:56.550274Z",
     "start_time": "2020-12-02T04:13:56.544090Z"
    }
   },
   "outputs": [
    {
     "data": {
      "text/plain": [
       "(9247, 16)"
      ]
     },
     "execution_count": 248,
     "metadata": {},
     "output_type": "execute_result"
    }
   ],
   "source": [
    "Xtrain_corr = Xtrain.loc[:,fea_list_corr]\n",
    "Xtest_corr = Xtest.loc[:,fea_list_corr]\n",
    "Xtrain_corr.shape"
   ]
  },
  {
   "cell_type": "markdown",
   "metadata": {},
   "source": [
    "### PCA"
   ]
  },
  {
   "cell_type": "code",
   "execution_count": 6,
   "metadata": {
    "ExecuteTime": {
     "end_time": "2020-12-02T00:01:46.326489Z",
     "start_time": "2020-12-02T00:01:45.584137Z"
    }
   },
   "outputs": [],
   "source": [
    "from sklearn.decomposition import PCA\n",
    "from sklearn.model_selection import train_test_split\n",
    "from sklearn.model_selection import cross_val_score"
   ]
  },
  {
   "cell_type": "code",
   "execution_count": 12,
   "metadata": {
    "ExecuteTime": {
     "end_time": "2020-12-02T00:02:17.904690Z",
     "start_time": "2020-12-02T00:02:17.705733Z"
    }
   },
   "outputs": [
    {
     "data": {
      "image/png": "[encoded data removed]",
      "text/plain": [
       "<Figure size 720x432 with 1 Axes>"
      ]
     },
     "metadata": {
      "needs_background": "light"
     },
     "output_type": "display_data"
    }
   ],
   "source": [
    "pca_line = PCA().fit(Xtrain)\n",
    "plt.figure(figsize=[10,6])\n",
    "plt.plot(np.cumsum(pca_line.explained_variance_ratio_))\n",
    "plt.xlabel(\"number of components after idimension reduction\")\n",
    "plt.ylabel(\"cumulative explained variance ratio\")\n",
    "plt.show()"
   ]
  },
  {
   "cell_type": "code",
   "execution_count": 250,
   "metadata": {
    "ExecuteTime": {
     "end_time": "2020-12-02T04:14:38.246613Z",
     "start_time": "2020-12-02T04:14:38.169941Z"
    }
   },
   "outputs": [
    {
     "name": "stdout",
     "output_type": "stream",
     "text": [
      "num. of component: 25\n"
     ]
    }
   ],
   "source": [
    "dim = np.where(np.cumsum(pca_line.explained_variance_ratio_)>0.9)[0][0]\n",
    "print('num. of component:',dim)\n",
    "Xtrain_PCA = PCA(dim).fit_transform(Xtrain)\n",
    "Xtest_PCA = PCA(dim).fit_transform(Xtest)"
   ]
  },
  {
   "cell_type": "markdown",
   "metadata": {},
   "source": [
    "### LASSO"
   ]
  },
  {
   "cell_type": "code",
   "execution_count": 191,
   "metadata": {
    "ExecuteTime": {
     "end_time": "2020-12-02T03:34:52.256435Z",
     "start_time": "2020-12-02T03:34:51.431059Z"
    }
   },
   "outputs": [],
   "source": [
    "from sklearn.linear_model import Ridge, LinearRegression, Lasso\n",
    "from sklearn.linear_model import LassoCV\n",
    "\n",
    "#define the list of potential choice of regulator in LASSO\n",
    "lambdarange = np.logspace(-10,0,200,base=10)\n",
    "lasso = LassoCV(alphas=lambdarange,cv=10).fit(Xtrain,ytrain)\n",
    "#lasso_ = LassoCV(eps=0.00001,n_alphas=300,cv=10).fit(Xtrain,ytrain)"
   ]
  },
  {
   "cell_type": "code",
   "execution_count": 213,
   "metadata": {
    "ExecuteTime": {
     "end_time": "2020-12-02T03:54:22.348199Z",
     "start_time": "2020-12-02T03:54:22.343346Z"
    }
   },
   "outputs": [
    {
     "data": {
      "text/plain": [
       "0.0005415871378079476"
      ]
     },
     "execution_count": 213,
     "metadata": {},
     "output_type": "execute_result"
    }
   ],
   "source": [
    "lasso_par = lasso.alpha_\n",
    "lasso_par"
   ]
  },
  {
   "cell_type": "code",
   "execution_count": 242,
   "metadata": {
    "ExecuteTime": {
     "end_time": "2020-12-02T04:10:05.216294Z",
     "start_time": "2020-12-02T04:10:05.210428Z"
    }
   },
   "outputs": [
    {
     "data": {
      "text/plain": [
       "['Administrative',\n",
       " 'Informational',\n",
       " 'Informational_Duration',\n",
       " 'ProductRelated',\n",
       " 'BounceRates',\n",
       " 'ExitRates',\n",
       " 'PageValues',\n",
       " 'SpecialDay',\n",
       " 'Weekend',\n",
       " 'Month_Aug',\n",
       " 'Month_Dec',\n",
       " 'Month_Feb',\n",
       " 'Month_Jul',\n",
       " 'Month_June',\n",
       " 'Month_Mar',\n",
       " 'Month_May',\n",
       " 'Month_Nov',\n",
       " 'Month_Sep',\n",
       " 'OperatingSystems_2',\n",
       " 'OperatingSystems_3',\n",
       " 'OperatingSystems_4',\n",
       " 'Browser_1',\n",
       " 'Browser_2',\n",
       " 'Browser_6',\n",
       " 'Region_1',\n",
       " 'Region_2',\n",
       " 'Region_3',\n",
       " 'Region_4',\n",
       " 'Region_5',\n",
       " 'Region_6',\n",
       " 'Region_7',\n",
       " 'Region_9',\n",
       " 'TrafficType_1',\n",
       " 'TrafficType_2',\n",
       " 'TrafficType_3',\n",
       " 'TrafficType_6',\n",
       " 'TrafficType_8',\n",
       " 'TrafficType_10',\n",
       " 'TrafficType_13',\n",
       " 'TrafficType_20',\n",
       " 'VisitorType_New_Visitor']"
      ]
     },
     "execution_count": 242,
     "metadata": {},
     "output_type": "execute_result"
    }
   ],
   "source": [
    "lasso_coef = pd.Series(lasso.coef_, index=X.columns.tolist(),name=\"lasso_coef\")\n",
    "fea_list_lasso = list(lasso_coef[lasso_coef!= 0].index)\n",
    "fea_list_lasso"
   ]
  },
  {
   "cell_type": "code",
   "execution_count": 249,
   "metadata": {
    "ExecuteTime": {
     "end_time": "2020-12-02T04:14:12.146632Z",
     "start_time": "2020-12-02T04:14:12.139221Z"
    }
   },
   "outputs": [
    {
     "data": {
      "text/plain": [
       "(9247, 41)"
      ]
     },
     "execution_count": 249,
     "metadata": {},
     "output_type": "execute_result"
    }
   ],
   "source": [
    "Xtrain_lasso = Xtrain.loc[:,fea_list_lasso]\n",
    "Xtest_lasso = Xtest.loc[:,fea_list_lasso]\n",
    "Xtrain_lasso.shape"
   ]
  },
  {
   "cell_type": "markdown",
   "metadata": {},
   "source": [
    "## Learning Regression Classifiers"
   ]
  },
  {
   "cell_type": "markdown",
   "metadata": {},
   "source": [
    "### Simple linear Regression without feature selection"
   ]
  },
  {
   "cell_type": "code",
   "execution_count": 215,
   "metadata": {
    "ExecuteTime": {
     "end_time": "2020-12-02T03:56:21.717337Z",
     "start_time": "2020-12-02T03:56:21.692241Z"
    }
   },
   "outputs": [],
   "source": [
    "LR = LinearRegression().fit(Xtrain,ytrain)\n",
    "ytest_LR = np.sign(LR.predict(Xtest))\n",
    "err_rate_LR = (ytest_LR!=ytest).sum()/len(ytest)"
   ]
  },
  {
   "cell_type": "code",
   "execution_count": 216,
   "metadata": {
    "ExecuteTime": {
     "end_time": "2020-12-02T03:56:23.465412Z",
     "start_time": "2020-12-02T03:56:23.441901Z"
    }
   },
   "outputs": [
    {
     "name": "stdout",
     "output_type": "stream",
     "text": [
      "0.1297\n",
      "0.1547\n",
      "TN: 0.8333 FN: 0.1177 TP: 0.037 FN: 0.012\n",
      "predicted to buy: 0.049\n"
     ]
    }
   ],
   "source": [
    "from sklearn.metrics import confusion_matrix\n",
    "CM = confusion_matrix(ytest, ytest_LR)\n",
    "TN = CM[0][0]/len(ytest)\n",
    "FN = CM[1][0]/len(ytest)\n",
    "TP = CM[1][1]/len(ytest)\n",
    "FP = CM[0][1]/len(ytest)\n",
    "print(np.round(err_rate_LR,4))\n",
    "print(np.round((ytest==1).sum()/len(ytest),4))\n",
    "print(\"TN:\", np.round(TN,4),\n",
    "      \"FN:\", np.round(FN,4),\n",
    "      \"TP:\", np.round(TP,4),\n",
    "      \"FN:\", np.round(FP,4))\n",
    "print(\"predicted to buy:\", np.round((ytest_LR==1).sum()/len(ytest),4))"
   ]
  },
  {
   "cell_type": "markdown",
   "metadata": {},
   "source": [
    "### Lasso Regression"
   ]
  },
  {
   "cell_type": "code",
   "execution_count": 217,
   "metadata": {
    "ExecuteTime": {
     "end_time": "2020-12-02T03:56:57.752078Z",
     "start_time": "2020-12-02T03:56:57.699162Z"
    }
   },
   "outputs": [
    {
     "name": "stdout",
     "output_type": "stream",
     "text": [
      "0.1301\n",
      "0.1547\n",
      "TN: 0.8346 FN: 0.1194 TP: 0.0354 FN: 0.0107\n",
      "predicted to buy: 0.0461\n"
     ]
    }
   ],
   "source": [
    "LassoReg = Lasso(alpha=lasso_par).fit(Xtrain,ytrain)\n",
    "ytest_Lasso = np.sign(LassoReg.predict(Xtest))\n",
    "err_rate_Lasso = (ytest_Lasso!=ytest).sum()/len(ytest)\n",
    "\n",
    "CM = confusion_matrix(ytest, ytest_Lasso)\n",
    "TN = CM[0][0]/len(ytest)\n",
    "FN = CM[1][0]/len(ytest)\n",
    "TP = CM[1][1]/len(ytest)\n",
    "FP = CM[0][1]/len(ytest)\n",
    "print(np.round(err_rate_Lasso,4))\n",
    "print(np.round((ytest==1).sum()/len(ytest),4))\n",
    "print(\"TN:\", np.round(TN,4),\n",
    "      \"FN:\", np.round(FN,4),\n",
    "      \"TP:\", np.round(TP,4),\n",
    "      \"FN:\", np.round(FP,4))\n",
    "print(\"predicted to buy:\", np.round((ytest_Lasso==1).sum()/len(ytest),4))"
   ]
  },
  {
   "cell_type": "markdown",
   "metadata": {},
   "source": [
    "### LR using features selected by Lasso"
   ]
  },
  {
   "cell_type": "code",
   "execution_count": 245,
   "metadata": {
    "ExecuteTime": {
     "end_time": "2020-12-02T04:10:47.240340Z",
     "start_time": "2020-12-02T04:10:47.203096Z"
    }
   },
   "outputs": [
    {
     "name": "stdout",
     "output_type": "stream",
     "text": [
      "0.1288\n",
      "0.1547\n",
      "TN: 0.8343 FN: 0.1177 TP: 0.037 FN: 0.011\n",
      "predicted to buy: 0.048\n"
     ]
    }
   ],
   "source": [
    "LR_fs = LinearRegression().fit(Xtrain_lasso,ytrain)\n",
    "ytest_LRfs = np.sign(LR_fs.predict(Xtest_lasso))\n",
    "err_rate_LRfs = (ytest_LRfs!=ytest).sum()/len(ytest)\n",
    "\n",
    "CM = confusion_matrix(ytest, ytest_LRfs)\n",
    "TN = CM[0][0]/len(ytest)\n",
    "FN = CM[1][0]/len(ytest)\n",
    "TP = CM[1][1]/len(ytest)\n",
    "FP = CM[0][1]/len(ytest)\n",
    "print(np.round(err_rate_LRfs,4))\n",
    "print(np.round((ytest==1).sum()/len(ytest),4))\n",
    "print(\"TN:\", np.round(TN,4),\n",
    "      \"FN:\", np.round(FN,4),\n",
    "      \"TP:\", np.round(TP,4),\n",
    "      \"FN:\", np.round(FP,4))\n",
    "print(\"predicted to buy:\", np.round((ytest_LRfs==1).sum()/len(ytest),4))"
   ]
  },
  {
   "cell_type": "markdown",
   "metadata": {
    "ExecuteTime": {
     "end_time": "2020-12-02T04:01:58.511371Z",
     "start_time": "2020-12-02T04:01:58.507083Z"
    }
   },
   "source": [
    "### LR using features selected by correlation"
   ]
  },
  {
   "cell_type": "code",
   "execution_count": 251,
   "metadata": {
    "ExecuteTime": {
     "end_time": "2020-12-02T04:16:03.477123Z",
     "start_time": "2020-12-02T04:16:03.442214Z"
    }
   },
   "outputs": [
    {
     "name": "stdout",
     "output_type": "stream",
     "text": [
      "0.1297\n",
      "0.1547\n",
      "TN: 0.8333 FN: 0.1177 TP: 0.037 FN: 0.012\n",
      "predicted to buy: 0.049\n"
     ]
    }
   ],
   "source": [
    "LR_corr = LinearRegression().fit(Xtrain_corr,ytrain)\n",
    "ytest_LRcorr = np.sign(LR_corr.predict(Xtest_corr))\n",
    "err_rate_LRcorr = (ytest_LRcorr!=ytest).sum()/len(ytest)\n",
    "\n",
    "CM = confusion_matrix(ytest, ytest_LRcorr)\n",
    "TN = CM[0][0]/len(ytest)\n",
    "FN = CM[1][0]/len(ytest)\n",
    "TP = CM[1][1]/len(ytest)\n",
    "FP = CM[0][1]/len(ytest)\n",
    "print(np.round(err_rate_LRcorr,4))\n",
    "print(np.round((ytest==1).sum()/len(ytest),4))\n",
    "print(\"TN:\", np.round(TN,4),\n",
    "      \"FN:\", np.round(FN,4),\n",
    "      \"TP:\", np.round(TP,4),\n",
    "      \"FN:\", np.round(FP,4))\n",
    "print(\"predicted to buy:\", np.round((ytest_LRcorr==1).sum()/len(ytest),4))"
   ]
  },
  {
   "cell_type": "markdown",
   "metadata": {},
   "source": [
    "###  LR using dimension reduction from PCA"
   ]
  },
  {
   "cell_type": "code",
   "execution_count": 252,
   "metadata": {
    "ExecuteTime": {
     "end_time": "2020-12-02T04:17:53.669392Z",
     "start_time": "2020-12-02T04:17:53.641505Z"
    }
   },
   "outputs": [
    {
     "name": "stdout",
     "output_type": "stream",
     "text": [
      "0.1547\n",
      "0.1547\n",
      "TN: 0.8453 FN: 0.1547 TP: 0.0 FN: 0.0\n",
      "predicted to buy: 0.0\n"
     ]
    }
   ],
   "source": [
    "LR_PCA = LinearRegression().fit(Xtrain_PCA,ytrain)\n",
    "ytest_LRPCA = np.sign(LR_PCA.predict(Xtest_PCA))\n",
    "err_rate_LRPCA = (ytest_LRPCA!=ytest).sum()/len(ytest)\n",
    "\n",
    "CM = confusion_matrix(ytest, ytest_LRPCA)\n",
    "TN = CM[0][0]/len(ytest)\n",
    "FN = CM[1][0]/len(ytest)\n",
    "TP = CM[1][1]/len(ytest)\n",
    "FP = CM[0][1]/len(ytest)\n",
    "print(np.round(err_rate_LRPCA,4))\n",
    "print(np.round((ytest==1).sum()/len(ytest),4))\n",
    "print(\"TN:\", np.round(TN,4),\n",
    "      \"FN:\", np.round(FN,4),\n",
    "      \"TP:\", np.round(TP,4),\n",
    "      \"FN:\", np.round(FP,4))\n",
    "print(\"predicted to buy:\", np.round((ytest_LRPCA==1).sum()/len(ytest),4))"
   ]
  },
  {
   "cell_type": "markdown",
   "metadata": {},
   "source": [
    "## KNN Classifier"
   ]
  },
  {
   "cell_type": "markdown",
   "metadata": {},
   "source": [
    "### Using PCA for dimension reduction"
   ]
  },
  {
   "cell_type": "code",
   "execution_count": 16,
   "metadata": {
    "ExecuteTime": {
     "end_time": "2020-12-02T00:03:05.075290Z",
     "start_time": "2020-12-02T00:02:40.506646Z"
    },
    "code_folding": []
   },
   "outputs": [],
   "source": [
    "from sklearn.neighbors import KNeighborsClassifier as KNN\n",
    "score = []\n",
    "for i in range (5,50,5):\n",
    "    once = cross_val_score(KNN(i+1),Xtrain_PCA,ytrain,cv=10).mean()\n",
    "    score.append(once)"
   ]
  },
  {
   "cell_type": "code",
   "execution_count": 17,
   "metadata": {
    "ExecuteTime": {
     "end_time": "2020-12-02T00:03:46.414403Z",
     "start_time": "2020-12-02T00:03:46.193209Z"
    }
   },
   "outputs": [
    {
     "data": {
      "image/png": "[encoded data removed]",
      "text/plain": [
       "<Figure size 1152x648 with 1 Axes>"
      ]
     },
     "metadata": {
      "needs_background": "light"
     },
     "output_type": "display_data"
    }
   ],
   "source": [
    "plt.figure(figsize=[16,9])\n",
    "plt.plot(range(5,50,5),score)\n",
    "plt.xlabel(\"number of neighbors\")\n",
    "plt.ylabel(\"score from CV\")\n",
    "plt.show()"
   ]
  },
  {
   "cell_type": "code",
   "execution_count": 18,
   "metadata": {
    "ExecuteTime": {
     "end_time": "2020-12-02T00:04:48.132726Z",
     "start_time": "2020-12-02T00:04:06.979486Z"
    }
   },
   "outputs": [],
   "source": [
    "score = []\n",
    "for i in range (20,35,1):\n",
    "    once = cross_val_score(KNN(i+1),Xtrain_PCA,ytrain,cv=10).mean()\n",
    "    score.append(once)"
   ]
  },
  {
   "cell_type": "code",
   "execution_count": 19,
   "metadata": {
    "ExecuteTime": {
     "end_time": "2020-12-02T00:06:32.680102Z",
     "start_time": "2020-12-02T00:06:32.468737Z"
    }
   },
   "outputs": [
    {
     "data": {
      "image/png": "[encoded data removed]",
      "text/plain": [
       "<Figure size 1152x648 with 1 Axes>"
      ]
     },
     "metadata": {
      "needs_background": "light"
     },
     "output_type": "display_data"
    }
   ],
   "source": [
    "plt.figure(figsize=[16,9])\n",
    "plt.plot(range(20,35,1),score)\n",
    "plt.xlabel(\"number of neighbors\")\n",
    "plt.ylabel(\"score from CV\")\n",
    "plt.show()"
   ]
  },
  {
   "cell_type": "code",
   "execution_count": 21,
   "metadata": {
    "ExecuteTime": {
     "end_time": "2020-12-02T00:07:27.017936Z",
     "start_time": "2020-12-02T00:07:25.940358Z"
    }
   },
   "outputs": [],
   "source": [
    "knn_PCA = KNN(29)\n",
    "knn_PCA.fit(Xtrain_PCA,ytrain)\n",
    "ytest_knn_PCA = knn_PCA.predict(Xtest_PCA)\n",
    "err_rate_KNN_PCA = (ytest_knn_PCA!=ytest).sum()/len(ytest)"
   ]
  },
  {
   "cell_type": "code",
   "execution_count": 32,
   "metadata": {
    "ExecuteTime": {
     "end_time": "2020-12-02T00:17:18.259323Z",
     "start_time": "2020-12-02T00:17:18.250815Z"
    }
   },
   "outputs": [],
   "source": [
    "CM = confusion_matrix(ytest, ytest_knn_PCA)\n",
    "TN = CM[0][0]/len(ytest)\n",
    "FN = CM[1][0]/len(ytest)\n",
    "TP = CM[1][1]/len(ytest)\n",
    "FP = CM[0][1]/len(ytest)"
   ]
  },
  {
   "cell_type": "code",
   "execution_count": 53,
   "metadata": {
    "ExecuteTime": {
     "end_time": "2020-12-02T00:39:24.831017Z",
     "start_time": "2020-12-02T00:39:24.824730Z"
    }
   },
   "outputs": [
    {
     "name": "stdout",
     "output_type": "stream",
     "text": [
      "0.1547\n",
      "0.1547\n",
      "TN: 0.8433 FN: 0.1528 TP: 0.0019 FN: 0.0019\n",
      "predicted to buy: 0.0039\n"
     ]
    }
   ],
   "source": [
    "print(np.round(err_rate_KNN_PCA,4))\n",
    "print(np.round((ytest==1).sum()/len(ytest),4))\n",
    "print(\"TN:\", np.round(TN,4),\n",
    "      \"FN:\", np.round(FN,4),\n",
    "      \"TP:\", np.round(TP,4),\n",
    "      \"FN:\", np.round(FP,4))\n",
    "print(\"predicted to buy:\", np.round((ytest_PCA==1).sum()/len(ytest),4))"
   ]
  },
  {
   "cell_type": "markdown",
   "metadata": {},
   "source": [
    "### Using correlation for feature selection"
   ]
  },
  {
   "cell_type": "code",
   "execution_count": 255,
   "metadata": {
    "ExecuteTime": {
     "end_time": "2020-12-02T04:20:39.650038Z",
     "start_time": "2020-12-02T04:20:31.294909Z"
    }
   },
   "outputs": [],
   "source": [
    "score = []\n",
    "for i in range (0,30,5):\n",
    "    once = cross_val_score(KNN(i+1),Xtrain_corr,ytrain,cv=10).mean()\n",
    "    score.append(once)"
   ]
  },
  {
   "cell_type": "code",
   "execution_count": 256,
   "metadata": {
    "ExecuteTime": {
     "end_time": "2020-12-02T04:20:40.672213Z",
     "start_time": "2020-12-02T04:20:40.476625Z"
    }
   },
   "outputs": [
    {
     "data": {
      "image/png": "[encoded data removed]",
      "text/plain": [
       "<Figure size 1152x648 with 1 Axes>"
      ]
     },
     "metadata": {
      "needs_background": "light"
     },
     "output_type": "display_data"
    }
   ],
   "source": [
    "plt.figure(figsize=[16,9])\n",
    "plt.plot(range(1,31,5),score)\n",
    "plt.xlabel(\"number of neighbors\")\n",
    "plt.ylabel(\"score from CV\")\n",
    "plt.show()"
   ]
  },
  {
   "cell_type": "code",
   "execution_count": 259,
   "metadata": {
    "ExecuteTime": {
     "end_time": "2020-12-02T04:24:03.824199Z",
     "start_time": "2020-12-02T04:23:49.765697Z"
    }
   },
   "outputs": [
    {
     "data": {
      "image/png": "[encoded data removed]",
      "text/plain": [
       "<Figure size 1152x648 with 1 Axes>"
      ]
     },
     "metadata": {
      "needs_background": "light"
     },
     "output_type": "display_data"
    }
   ],
   "source": [
    "score = []\n",
    "for i in range (4,14,1):\n",
    "    once = cross_val_score(KNN(i+1),Xtrain_corr,ytrain,cv=10).mean()\n",
    "    score.append(once)\n",
    "    \n",
    "plt.figure(figsize=[16,9])\n",
    "plt.plot(range(5,15,1),score)\n",
    "plt.xlabel(\"number of neighbors\")\n",
    "plt.ylabel(\"score from CV\")\n",
    "plt.show()"
   ]
  },
  {
   "cell_type": "code",
   "execution_count": 260,
   "metadata": {
    "ExecuteTime": {
     "end_time": "2020-12-02T04:25:05.761490Z",
     "start_time": "2020-12-02T04:25:05.357815Z"
    }
   },
   "outputs": [],
   "source": [
    "knn_corr = KNN(9)\n",
    "knn_corr.fit(Xtrain_corr,ytrain)\n",
    "ytest_knn_corr = knn_corr.predict(Xtest_corr)\n",
    "err_rate_KNN_corr = (ytest_knn_corr!=ytest).sum()/len(ytest)"
   ]
  },
  {
   "cell_type": "code",
   "execution_count": 262,
   "metadata": {
    "ExecuteTime": {
     "end_time": "2020-12-02T04:26:00.865135Z",
     "start_time": "2020-12-02T04:26:00.854446Z"
    }
   },
   "outputs": [
    {
     "name": "stdout",
     "output_type": "stream",
     "text": [
      "0.1255\n",
      "0.1547\n",
      "TN: 0.8197 FN: 0.0999 TP: 0.0548 FN: 0.0256\n",
      "predicted to buy: 0.0804\n"
     ]
    }
   ],
   "source": [
    "CM = confusion_matrix(ytest, ytest_knn_corr)\n",
    "TN = CM[0][0]/len(ytest)\n",
    "FN = CM[1][0]/len(ytest)\n",
    "TP = CM[1][1]/len(ytest)\n",
    "FP = CM[0][1]/len(ytest)\n",
    "\n",
    "print(np.round(err_rate_KNN_corr,4))\n",
    "print(np.round((ytest==1).sum()/len(ytest),4))\n",
    "print(\"TN:\", np.round(TN,4),\n",
    "      \"FN:\", np.round(FN,4),\n",
    "      \"TP:\", np.round(TP,4),\n",
    "      \"FN:\", np.round(FP,4))\n",
    "print(\"predicted to buy:\", np.round((ytest_knn_corr==1).sum()/len(ytest),4))"
   ]
  },
  {
   "cell_type": "markdown",
   "metadata": {},
   "source": [
    "### Using Lasso for feature selection"
   ]
  },
  {
   "cell_type": "code",
   "execution_count": 263,
   "metadata": {
    "ExecuteTime": {
     "end_time": "2020-12-02T04:28:24.821706Z",
     "start_time": "2020-12-02T04:27:52.712518Z"
    }
   },
   "outputs": [],
   "source": [
    "score = []\n",
    "for i in range (0,30,5):\n",
    "    once = cross_val_score(KNN(i+1),Xtrain_lasso,ytrain,cv=10).mean()\n",
    "    score.append(once)"
   ]
  },
  {
   "cell_type": "code",
   "execution_count": 264,
   "metadata": {
    "ExecuteTime": {
     "end_time": "2020-12-02T04:28:25.857113Z",
     "start_time": "2020-12-02T04:28:25.665164Z"
    }
   },
   "outputs": [
    {
     "data": {
      "image/png": "[encoded data removed]",
      "text/plain": [
       "<Figure size 1152x648 with 1 Axes>"
      ]
     },
     "metadata": {
      "needs_background": "light"
     },
     "output_type": "display_data"
    }
   ],
   "source": [
    "plt.figure(figsize=[16,9])\n",
    "plt.plot(range(1,31,5),score)\n",
    "plt.xlabel(\"number of neighbors\")\n",
    "plt.ylabel(\"score from CV\")\n",
    "plt.show()"
   ]
  },
  {
   "cell_type": "code",
   "execution_count": 265,
   "metadata": {
    "ExecuteTime": {
     "end_time": "2020-12-02T04:29:37.762303Z",
     "start_time": "2020-12-02T04:28:43.793110Z"
    }
   },
   "outputs": [
    {
     "data": {
      "image/png": "[encoded data removed]",
      "text/plain": [
       "<Figure size 1152x648 with 1 Axes>"
      ]
     },
     "metadata": {
      "needs_background": "light"
     },
     "output_type": "display_data"
    }
   ],
   "source": [
    "score = []\n",
    "for i in range (4,14,1):\n",
    "    once = cross_val_score(KNN(i+1),Xtrain_lasso,ytrain,cv=10).mean()\n",
    "    score.append(once)\n",
    "    \n",
    "plt.figure(figsize=[16,9])\n",
    "plt.plot(range(5,15,1),score)\n",
    "plt.xlabel(\"number of neighbors\")\n",
    "plt.ylabel(\"score from CV\")\n",
    "plt.show()"
   ]
  },
  {
   "cell_type": "code",
   "execution_count": 266,
   "metadata": {
    "ExecuteTime": {
     "end_time": "2020-12-02T04:29:58.872263Z",
     "start_time": "2020-12-02T04:29:56.975119Z"
    }
   },
   "outputs": [],
   "source": [
    "knn_lasso = KNN(9)\n",
    "knn_lasso.fit(Xtrain_lasso,ytrain)\n",
    "ytest_knn_lasso = knn_lasso.predict(Xtest_lasso)\n",
    "err_rate_KNN_lasso = (ytest_knn_lasso!=ytest).sum()/len(ytest)"
   ]
  },
  {
   "cell_type": "code",
   "execution_count": 267,
   "metadata": {
    "ExecuteTime": {
     "end_time": "2020-12-02T04:30:29.079050Z",
     "start_time": "2020-12-02T04:30:29.068601Z"
    }
   },
   "outputs": [
    {
     "name": "stdout",
     "output_type": "stream",
     "text": [
      "0.1521\n",
      "0.1547\n",
      "TN: 0.8349 FN: 0.1417 TP: 0.013 FN: 0.0104\n",
      "predicted to buy: 0.0234\n"
     ]
    }
   ],
   "source": [
    "CM = confusion_matrix(ytest, ytest_knn_lasso)\n",
    "TN = CM[0][0]/len(ytest)\n",
    "FN = CM[1][0]/len(ytest)\n",
    "TP = CM[1][1]/len(ytest)\n",
    "FP = CM[0][1]/len(ytest)\n",
    "\n",
    "print(np.round(err_rate_KNN_lasso,4))\n",
    "print(np.round((ytest==1).sum()/len(ytest),4))\n",
    "print(\"TN:\", np.round(TN,4),\n",
    "      \"FN:\", np.round(FN,4),\n",
    "      \"TP:\", np.round(TP,4),\n",
    "      \"FN:\", np.round(FP,4))\n",
    "print(\"predicted to buy:\", np.round((ytest_knn_lasso==1).sum()/len(ytest),4))"
   ]
  },
  {
   "cell_type": "markdown",
   "metadata": {},
   "source": []
  }
 ],
 "metadata": {
  "kernelspec": {
   "display_name": "Python 3",
   "language": "python",
   "name": "python3"
  },
  "language_info": {
   "codemirror_mode": {
    "name": "ipython",
    "version": 3
   },
   "file_extension": ".py",
   "mimetype": "text/x-python",
   "name": "python",
   "nbconvert_exporter": "python",
   "pygments_lexer": "ipython3",
   "version": "3.8.0"
  },
  "toc": {
   "base_numbering": 1,
   "nav_menu": {},
   "number_sections": true,
   "sideBar": true,
   "skip_h1_title": false,
   "title_cell": "Table of Contents",
   "title_sidebar": "Contents",
   "toc_cell": false,
   "toc_position": {},
   "toc_section_display": true,
   "toc_window_display": false
  },
  "varInspector": {
   "cols": {
    "lenName": 16,
    "lenType": 16,
    "lenVar": 40
   },
   "kernels_config": {
    "python": {
     "delete_cmd_postfix": "",
     "delete_cmd_prefix": "del ",
     "library": "var_list.py",
     "varRefreshCmd": "print(var_dic_list())"
    },
    "r": {
     "delete_cmd_postfix": ") ",
     "delete_cmd_prefix": "rm(",
     "library": "var_list.r",
     "varRefreshCmd": "cat(var_dic_list()) "
    }
   },
   "types_to_exclude": [
    "module",
    "function",
    "builtin_function_or_method",
    "instance",
    "_Feature"
   ],
   "window_display": false
  }
 },
 "nbformat": 4,
 "nbformat_minor": 2
}
