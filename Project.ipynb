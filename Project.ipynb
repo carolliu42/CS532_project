{
 "cells": [
  {
   "cell_type": "code",
   "execution_count": 1,
   "metadata": {
    "ExecuteTime": {
     "end_time": "2020-11-18T01:28:33.793613Z",
     "start_time": "2020-11-18T01:28:32.912705Z"
    }
   },
   "outputs": [],
   "source": [
    "import numpy as np\n",
    "import pandas as pd\n",
    "from scipy.io import loadmat\n",
    "from matplotlib import pyplot as plt"
   ]
  },
  {
   "cell_type": "code",
   "execution_count": 2,
   "metadata": {
    "ExecuteTime": {
     "end_time": "2020-11-18T01:28:33.832226Z",
     "start_time": "2020-11-18T01:28:33.796097Z"
    }
   },
   "outputs": [
    {
     "name": "stdout",
     "output_type": "stream",
     "text": [
      "first three obsv    Administrative  Administrative_Duration  Informational  \\\n",
      "0               0                      0.0              0   \n",
      "1               0                      0.0              0   \n",
      "2               0                      0.0              0   \n",
      "\n",
      "   Informational_Duration  ProductRelated  ProductRelated_Duration  \\\n",
      "0                     0.0               1                      0.0   \n",
      "1                     0.0               2                     64.0   \n",
      "2                     0.0               1                      0.0   \n",
      "\n",
      "   BounceRates  ExitRates  PageValues  SpecialDay Month  OperatingSystems  \\\n",
      "0          0.2        0.2         0.0         0.0   Feb                 1   \n",
      "1          0.0        0.1         0.0         0.0   Feb                 2   \n",
      "2          0.2        0.2         0.0         0.0   Feb                 4   \n",
      "\n",
      "   Browser  Region  TrafficType        VisitorType  Weekend  Revenue  \n",
      "0        1       1            1  Returning_Visitor    False    False  \n",
      "1        2       1            2  Returning_Visitor    False    False  \n",
      "2        1       9            3  Returning_Visitor    False    False  \n",
      "shape: (12330, 18)\n",
      "Administrative               int64\n",
      "Administrative_Duration    float64\n",
      "Informational                int64\n",
      "Informational_Duration     float64\n",
      "ProductRelated               int64\n",
      "ProductRelated_Duration    float64\n",
      "BounceRates                float64\n",
      "ExitRates                  float64\n",
      "PageValues                 float64\n",
      "SpecialDay                 float64\n",
      "Month                       object\n",
      "OperatingSystems             int64\n",
      "Browser                      int64\n",
      "Region                       int64\n",
      "TrafficType                  int64\n",
      "VisitorType                 object\n",
      "Weekend                       bool\n",
      "Revenue                       bool\n",
      "dtype: object\n"
     ]
    }
   ],
   "source": [
    "# import the raw dataset\n",
    "raw_data = pd.read_csv('online_shoppers_intention.csv')\n",
    "print('first three obsv', raw_data.head(3))\n",
    "print('shape:', raw_data.shape)\n",
    "print(raw_data.dtypes)"
   ]
  },
  {
   "cell_type": "markdown",
   "metadata": {
    "ExecuteTime": {
     "end_time": "2020-11-18T00:11:00.756117Z",
     "start_time": "2020-11-18T00:11:00.754341Z"
    }
   },
   "source": [
    "## Processing the data"
   ]
  },
  {
   "cell_type": "code",
   "execution_count": 3,
   "metadata": {
    "ExecuteTime": {
     "end_time": "2020-11-18T01:28:33.848898Z",
     "start_time": "2020-11-18T01:28:33.835061Z"
    }
   },
   "outputs": [
    {
     "name": "stdout",
     "output_type": "stream",
     "text": [
      "Administrative               int64\n",
      "Administrative_Duration    float64\n",
      "Informational                int64\n",
      "Informational_Duration     float64\n",
      "ProductRelated               int64\n",
      "ProductRelated_Duration    float64\n",
      "BounceRates                float64\n",
      "ExitRates                  float64\n",
      "PageValues                 float64\n",
      "SpecialDay                 float64\n",
      "Month                       object\n",
      "OperatingSystems            object\n",
      "Browser                     object\n",
      "Region                      object\n",
      "TrafficType                 object\n",
      "VisitorType                 object\n",
      "Weekend                      int64\n",
      "Revenue                      int64\n",
      "dtype: object\n"
     ]
    }
   ],
   "source": [
    "# build a new dataframe and change some data type\n",
    "shopperdata = raw_data\n",
    "shopperdata[['OperatingSystems','Browser','Region','TrafficType']] = shopperdata[['OperatingSystems','Browser','Region','TrafficType']].astype('object')\n",
    "shopperdata['Revenue'] = shopperdata['Revenue'].replace([True,False],[1,-1])\n",
    "shopperdata['Weekend'] = shopperdata['Weekend'].replace([True,False],[1,0])\n",
    "print(shopperdata.dtypes)"
   ]
  },
  {
   "cell_type": "code",
   "execution_count": 4,
   "metadata": {
    "ExecuteTime": {
     "end_time": "2020-11-18T01:28:33.896678Z",
     "start_time": "2020-11-18T01:28:33.851406Z"
    }
   },
   "outputs": [
    {
     "name": "stdout",
     "output_type": "stream",
     "text": [
      "(12330, 62) (12330, 1)\n",
      "Administrative                   float64\n",
      "Administrative_Duration          float64\n",
      "Informational                    float64\n",
      "Informational_Duration           float64\n",
      "ProductRelated                   float64\n",
      "                                  ...   \n",
      "TrafficType_19                     uint8\n",
      "TrafficType_20                     uint8\n",
      "VisitorType_New_Visitor            uint8\n",
      "VisitorType_Other                  uint8\n",
      "VisitorType_Returning_Visitor      uint8\n",
      "Length: 62, dtype: object\n",
      "Revenue    int64\n",
      "dtype: object\n"
     ]
    }
   ],
   "source": [
    "# create new dummy variables based on categoricals\n",
    "X = pd.get_dummies(shopperdata, columns=['Month','OperatingSystems','Region','TrafficType','VisitorType'])\n",
    "X.drop(['Revenue'],axis =1, inplace = True )\n",
    "\n",
    "# normalize all the numerical columns\n",
    "X_num = X.iloc[:,0:10]\n",
    "X_num_norm = (X_num-X_num.min())/(X_num.max()-X_num.min())\n",
    "X.iloc[:,0:10] = X_num_norm  \n",
    "\n",
    "# Construct the response variable for classification\n",
    "y = shopperdata.loc[:,['Revenue']]\n",
    "\n",
    "\n",
    "print(X.shape, y.shape)\n",
    "print(X.dtypes)\n",
    "print(y.dtypes)"
   ]
  },
  {
   "cell_type": "code",
   "execution_count": null,
   "metadata": {},
   "outputs": [],
   "source": []
  }
 ],
 "metadata": {
  "kernelspec": {
   "display_name": "Python 3",
   "language": "python",
   "name": "python3"
  },
  "language_info": {
   "codemirror_mode": {
    "name": "ipython",
    "version": 3
   },
   "file_extension": ".py",
   "mimetype": "text/x-python",
   "name": "python",
   "nbconvert_exporter": "python",
   "pygments_lexer": "ipython3",
   "version": "3.8.0"
  },
  "toc": {
   "base_numbering": 1,
   "nav_menu": {},
   "number_sections": true,
   "sideBar": true,
   "skip_h1_title": false,
   "title_cell": "Table of Contents",
   "title_sidebar": "Contents",
   "toc_cell": false,
   "toc_position": {},
   "toc_section_display": true,
   "toc_window_display": false
  },
  "varInspector": {
   "cols": {
    "lenName": 16,
    "lenType": 16,
    "lenVar": 40
   },
   "kernels_config": {
    "python": {
     "delete_cmd_postfix": "",
     "delete_cmd_prefix": "del ",
     "library": "var_list.py",
     "varRefreshCmd": "print(var_dic_list())"
    },
    "r": {
     "delete_cmd_postfix": ") ",
     "delete_cmd_prefix": "rm(",
     "library": "var_list.r",
     "varRefreshCmd": "cat(var_dic_list()) "
    }
   },
   "types_to_exclude": [
    "module",
    "function",
    "builtin_function_or_method",
    "instance",
    "_Feature"
   ],
   "window_display": false
  }
 },
 "nbformat": 4,
 "nbformat_minor": 2
}
